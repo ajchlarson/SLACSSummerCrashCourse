{
 "cells": [
  {
   "cell_type": "markdown",
   "metadata": {},
   "source": [
    "#  Basic Unix Tutorial\n",
    "\n",
    "This is a tutorial on basic unix operations for the [SLAC Summer Student Computing Crash Course](https://mclaughlin6464.github.io/SLACSummerCrashCourse/).\n",
    "\n",
    "Authors: [Yao-Yuan Mao](http://yymao.github.io) and [Sean McLaughlin](https://mclaughlin6464.github.io)"
   ]
  },
  {
   "cell_type": "markdown",
   "metadata": {},
   "source": [
    "### Note on Bash Kernel\n",
    "In order to run this notebook, you'll need to install the bash kernel for Jupyter notebooks. You can find the instructions in [this repo](https://github.com/takluyver/bash_kernel). \n",
    "\n",
    "Additionally, you can choose the Python kernel and insert the `%bash` magic before each line or the `%%bash` magic at the top of each cell. We'll talk more about Jupyter magics in a future lesson."
   ]
  },
  {
   "cell_type": "markdown",
   "metadata": {},
   "source": [
    "## Working Directory\n",
    "\n",
    "Unlike using a desktop enviornment, when you are working with a command line interface, you always \"exist\" in a specfic place in that system. We call this place the **Working Directory** (WD).\n",
    "\n",
    "- To print out the working directory, use *command* `pwd` (short for *print working directory*). \n",
    "- To change the WD, use command `cd` (short for *change directory*), followed by an *argument*, the path of the new WD.\n",
    "    - If the path does NOT start with a slash (/), it's then RELATIVE to current WD\n",
    "    - To change the WD to the parent directory of current WD, usd `cd ..`\n",
    "    - To go back to the last WD, use `cd -`\n",
    "    - To go to your home directory, use `cd ~`\n",
    "    \n",
    "Try the following commands out. Use `pwd` to check if you get it right."
   ]
  },
  {
   "cell_type": "code",
   "execution_count": null,
   "metadata": {
    "collapsed": false
   },
   "outputs": [],
   "source": [
    "pwd"
   ]
  },
  {
   "cell_type": "code",
   "execution_count": null,
   "metadata": {
    "collapsed": false
   },
   "outputs": [],
   "source": [
    "cd /home/sean"
   ]
  },
  {
   "cell_type": "code",
   "execution_count": null,
   "metadata": {
    "collapsed": false
   },
   "outputs": [],
   "source": [
    "cd Downloads"
   ]
  },
  {
   "cell_type": "code",
   "execution_count": null,
   "metadata": {
    "collapsed": false
   },
   "outputs": [],
   "source": [
    "cd .."
   ]
  },
  {
   "cell_type": "code",
   "execution_count": null,
   "metadata": {
    "collapsed": false
   },
   "outputs": [],
   "source": [
    "cd -"
   ]
  },
  {
   "cell_type": "code",
   "execution_count": null,
   "metadata": {
    "collapsed": false
   },
   "outputs": [],
   "source": [
    "cd ~"
   ]
  },
  {
   "cell_type": "markdown",
   "metadata": {},
   "source": [
    "To see the files and directories inside a directory, use `ls`, followed by that directory. If no argument is followed, it lists the files and directories inside current WD. \n",
    "\n",
    "Try the following commands out."
   ]
  },
  {
   "cell_type": "code",
   "execution_count": null,
   "metadata": {
    "collapsed": false
   },
   "outputs": [],
   "source": [
    "ls"
   ]
  },
  {
   "cell_type": "code",
   "execution_count": null,
   "metadata": {
    "collapsed": false
   },
   "outputs": [],
   "source": [
    "ls .."
   ]
  },
  {
   "cell_type": "code",
   "execution_count": null,
   "metadata": {
    "collapsed": false
   },
   "outputs": [],
   "source": [
    "ls ~"
   ]
  },
  {
   "cell_type": "markdown",
   "metadata": {},
   "source": [
    "(Note that when you `ls` a directory, you did not automatically `cd` into that directory. You still stay in your original WD. Use `pwd` to be sure.)\n",
    "\n",
    "Keep trying some more. See if you can tell what each arguement does:"
   ]
  },
  {
   "cell_type": "code",
   "execution_count": null,
   "metadata": {
    "collapsed": false
   },
   "outputs": [],
   "source": [
    "ls -a ~"
   ]
  },
  {
   "cell_type": "code",
   "execution_count": null,
   "metadata": {
    "collapsed": false
   },
   "outputs": [],
   "source": [
    "ls -l ~"
   ]
  },
  {
   "cell_type": "code",
   "execution_count": null,
   "metadata": {
    "collapsed": false
   },
   "outputs": [],
   "source": [
    "ls -t ~"
   ]
  },
  {
   "cell_type": "markdown",
   "metadata": {},
   "source": [
    "Notice that by adding *optional arguments* such as `-a` or `-l` after `ls`, we obtain slightly different outputs. For `ls`, `-a` prints all files including the hidden ones, `-l` prints a long, detailed list, `-t` prints the list ordered by time.\n",
    "\n",
    "You can also combine options, like:"
   ]
  },
  {
   "cell_type": "code",
   "execution_count": null,
   "metadata": {
    "collapsed": false
   },
   "outputs": [],
   "source": [
    "ls -alt ~"
   ]
  },
  {
   "cell_type": "markdown",
   "metadata": {},
   "source": [
    "**You might have noticed**:\n",
    "\n",
    "- Operations are specificed by `<command> <arguments>`\n",
    "- Optional arguments *usually* start with a dash (-)\n",
    "- The names of hidden files/directories always start with a dot (.)"
   ]
  },
  {
   "cell_type": "markdown",
   "metadata": {},
   "source": [
    "##  More operations on the file system \n",
    "\n",
    "Now we are going to download some files for this session, so `cd` into a directory of your chioce, we will store the files there.\n",
    "\n",
    "Want to create a new empty directory? `cd` into the directory where you want to create the new directory, and use `mkdir` followed by the name of new directory. Then `cd` into it."
   ]
  },
  {
   "cell_type": "code",
   "execution_count": null,
   "metadata": {
    "collapsed": false
   },
   "outputs": [],
   "source": [
    "mkdir new_dir\n",
    "cd new_dir"
   ]
  },
  {
   "cell_type": "markdown",
   "metadata": {},
   "source": [
    "(You also noticed that when you make a new directory, you did not automatically `cd` into it.)\n",
    "\n",
    "Now we can download the files. I have compressed the files as a signle tarball. Type the following commands to download and decompress the file."
   ]
  },
  {
   "cell_type": "code",
   "execution_count": null,
   "metadata": {
    "collapsed": false
   },
   "outputs": [],
   "source": [
    "wget https://github.com/mclaughlin6464/SLACSummerCrashCourse/blob/master/Unix/files_for_practice.tar.gz"
   ]
  },
  {
   "cell_type": "markdown",
   "metadata": {},
   "source": [
    "Note: If you don't have `wget` on your machine, just download [this file](https://github.com/KIPAC/BootCamp/raw/master/Unix/files_for_practice.tar.gz) and then move it to the new directory you just created."
   ]
  },
  {
   "cell_type": "code",
   "execution_count": null,
   "metadata": {
    "collapsed": false
   },
   "outputs": [],
   "source": [
    "tar -xzf files_for_practice.tar.gz"
   ]
  },
  {
   "cell_type": "markdown",
   "metadata": {},
   "source": [
    "### Task 1\n",
    "\n",
    "- Create a directory call `mp3` under `files_for_practice/random_files`\n",
    "- Move all the mp3 files under `files_for_practice/random_files` into `files_for_practice/random_files/mp3`"
   ]
  },
  {
   "cell_type": "code",
   "execution_count": null,
   "metadata": {
    "collapsed": false
   },
   "outputs": [],
   "source": [
    "cd files_for_practice/random_files"
   ]
  },
  {
   "cell_type": "code",
   "execution_count": null,
   "metadata": {
    "collapsed": false
   },
   "outputs": [],
   "source": [
    "mkdir mp3"
   ]
  },
  {
   "cell_type": "code",
   "execution_count": null,
   "metadata": {
    "collapsed": true
   },
   "outputs": [],
   "source": [
    "mv *.mp3 mp3/"
   ]
  },
  {
   "cell_type": "markdown",
   "metadata": {},
   "source": [
    "Here `mv` is the command to move or rename files/directories. It should be called as \n",
    "\n",
    "    mv [source file] [target file]\n",
    "    ### OR ###\n",
    "    mv [files to be moved [...]] [target directory]\n",
    "    \n",
    "The star symbol (\\*), or asterisk, is a **wildcard character** that matches any charcters. "
   ]
  },
  {
   "cell_type": "markdown",
   "metadata": {},
   "source": [
    "### Task 2\n",
    "\n",
    "- Create a directory call `est` under `files_for_practice/random_files`\n",
    "- **Copy** all files whose filenames _are_ `est`, **regardless of their file extensions**, under `files_for_practice/random_files`, into `files_for_practice/random_files/est`\n",
    "\n",
    "(What's the command for copy? You guessed it --- `cp`.)"
   ]
  },
  {
   "cell_type": "code",
   "execution_count": null,
   "metadata": {
    "collapsed": true
   },
   "outputs": [],
   "source": [
    "mkdir est"
   ]
  },
  {
   "cell_type": "code",
   "execution_count": null,
   "metadata": {
    "collapsed": true
   },
   "outputs": [],
   "source": [
    "cp est.* est/"
   ]
  },
  {
   "cell_type": "markdown",
   "metadata": {},
   "source": [
    "### Task 3\n",
    "\n",
    "- In `files_for_practice/random_files`, rename the file `architecto.mp3` to `consequuntur.html`"
   ]
  },
  {
   "cell_type": "code",
   "execution_count": null,
   "metadata": {
    "collapsed": true
   },
   "outputs": [],
   "source": [
    "mv architecto.mp3 consequuntur.html"
   ]
  },
  {
   "cell_type": "markdown",
   "metadata": {},
   "source": [
    "### Task 4\n",
    "\n",
    "- In `files_for_practice/random_files`, remove the file `molestias.css`\n",
    "\n",
    "(Yes, command for remove is `rm`. It is a good idea to add `-i` after it, so that you won't accidental delete files you don't want to delete.)"
   ]
  },
  {
   "cell_type": "code",
   "execution_count": null,
   "metadata": {
    "collapsed": true
   },
   "outputs": [],
   "source": [
    "rm -i molestias.css"
   ]
  },
  {
   "cell_type": "markdown",
   "metadata": {},
   "source": [
    "### What we have learned\n",
    "\n",
    "- `pwd`: print current working directory\n",
    "- `cd`: change working directory\n",
    "- `ls`: list files and directories\n",
    "- `mkdir`: make new directories\n",
    "- `mv`: move files and directories\n",
    "- `cp`: copy files\n",
    "- `rm`: delete files\n",
    "- `wget [URL]`: download file\n",
    "- `tar -xzf [FILE]`: uncompress file"
   ]
  },
  {
   "cell_type": "markdown",
   "metadata": {},
   "source": [
    "## Read text files"
   ]
  },
  {
   "cell_type": "markdown",
   "metadata": {},
   "source": [
    "- Use `more` or `less` to read a text file.\n",
    "   - Use Page Up/Down to scroll\n",
    "   - Type `q` to quit\n",
    "- Use `cat` to print out the content of a file.\n",
    "- Use `head` to print out the first few lines of a file.\n",
    "- Use `tail` to print out the first few lines of a file."
   ]
  },
  {
   "cell_type": "markdown",
   "metadata": {},
   "source": [
    "### Task 5\n",
    "\n",
    "- what's the second to the last line in file `users.txt`?\n",
    "- what's the third line in file `clients.txt`?"
   ]
  },
  {
   "cell_type": "code",
   "execution_count": null,
   "metadata": {
    "collapsed": false
   },
   "outputs": [],
   "source": [
    "tail -n 2 users.txt"
   ]
  },
  {
   "cell_type": "code",
   "execution_count": null,
   "metadata": {
    "collapsed": false
   },
   "outputs": [],
   "source": [
    "head -n 3 clients.txt"
   ]
  },
  {
   "cell_type": "markdown",
   "metadata": {},
   "source": [
    "## Execute files \n",
    "\n",
    "We have already used many *programs* already, like `wget` and `tar` --- they *are* programs with command-line interfaces. \n",
    "\n",
    "Just on like all other systems, these programs live *somewhere* in the system. You can find out where with the `which` command:"
   ]
  },
  {
   "cell_type": "code",
   "execution_count": null,
   "metadata": {
    "collapsed": true
   },
   "outputs": [],
   "source": [
    "which tar"
   ]
  },
  {
   "cell_type": "code",
   "execution_count": null,
   "metadata": {
    "collapsed": true
   },
   "outputs": [],
   "source": [
    "which wget"
   ]
  },
  {
   "cell_type": "code",
   "execution_count": null,
   "metadata": {
    "collapsed": false
   },
   "outputs": [],
   "source": [
    "which which"
   ]
  },
  {
   "cell_type": "markdown",
   "metadata": {},
   "source": [
    "The system knows where to find these programs by looking into some pre-defined paths, which are stored in an enviroment variable called `$PATH`. We'll take more about variables later. For now you can check out what's in your pre-defined paths by printing out this variable:"
   ]
  },
  {
   "cell_type": "code",
   "execution_count": null,
   "metadata": {
    "collapsed": false
   },
   "outputs": [],
   "source": [
    "echo $PATH"
   ]
  },
  {
   "cell_type": "markdown",
   "metadata": {},
   "source": [
    "So what if I have a program also called `wget` in my current WD and I want to run it? \n",
    "\n",
    "You then need to specify it's path (i.e. at least one slash '/' needs to appear). It the program is in your current WD, you can call it with `./<program name>`, where the dot (.) stands for current WD."
   ]
  },
  {
   "cell_type": "markdown",
   "metadata": {},
   "source": [
    "### Task 6\n",
    "\n",
    "- change WD to files_for_practice/executables\n",
    "- try running the fake programs `wget` and `tar`."
   ]
  },
  {
   "cell_type": "code",
   "execution_count": null,
   "metadata": {
    "collapsed": true
   },
   "outputs": [],
   "source": [
    "cd ../executables"
   ]
  },
  {
   "cell_type": "code",
   "execution_count": null,
   "metadata": {
    "collapsed": true
   },
   "outputs": [],
   "source": [
    "./wget"
   ]
  },
  {
   "cell_type": "code",
   "execution_count": null,
   "metadata": {
    "collapsed": true
   },
   "outputs": [],
   "source": [
    "./tar"
   ]
  },
  {
   "cell_type": "markdown",
   "metadata": {},
   "source": [
    "You'll notice that you cannot execute `tar`. The reason is that you don't have the permission to execute it. \n",
    "\n",
    "You can **change the permission** (read/write/execute) by the command `chmod`. Try:"
   ]
  },
  {
   "cell_type": "code",
   "execution_count": null,
   "metadata": {
    "collapsed": true
   },
   "outputs": [],
   "source": [
    "chmod u+x tar"
   ]
  },
  {
   "cell_type": "markdown",
   "metadata": {},
   "source": [
    "### Task 7\n",
    "\n",
    "- remove user's read permisson from the file `alphabet.txt`\n",
    "- See if it works by reading the file\n",
    "- If it works, reinstate user's read permisson"
   ]
  },
  {
   "cell_type": "code",
   "execution_count": null,
   "metadata": {
    "collapsed": true
   },
   "outputs": [],
   "source": [
    "chmod u-r alphabet.txt"
   ]
  },
  {
   "cell_type": "code",
   "execution_count": null,
   "metadata": {
    "collapsed": true
   },
   "outputs": [],
   "source": [
    "cat alphabet.txt"
   ]
  },
  {
   "cell_type": "code",
   "execution_count": null,
   "metadata": {
    "collapsed": true
   },
   "outputs": [],
   "source": [
    "chmod u+r alphabet.txt"
   ]
  },
  {
   "cell_type": "markdown",
   "metadata": {},
   "source": [
    "## I/O redirection and piping\n",
    "\n",
    "**Redirection**:\n",
    "To read `input_file` as stanford input and print standard output to a new file `output_file`:\n",
    "\n",
    "    command < input_file > output_file\n",
    "    \n",
    "You can use only one part of it:\n",
    "\n",
    "    command < input_file\n",
    "    \n",
    "    command > output_file\n",
    "    \n",
    "You can also redirect the output and **append** to a file with two arrows:\n",
    "\n",
    "    command >> output_file\n",
    "\n",
    "\n",
    "**Piping**:\n",
    "To use the standard output from `command1` as the standard input of `command2`\n",
    "\n",
    "    command1 | command2"
   ]
  },
  {
   "cell_type": "markdown",
   "metadata": {},
   "source": [
    "### Task 8\n",
    "\n",
    "- add execute permission to user for the file `reverse`\n",
    "- run `reverse` with the content of `alphabet.txt` as stanford input (try both redirection and piping)\n",
    "\n",
    "**Hints**:\n",
    "recall the command to change permission, and the command to print out the whole file."
   ]
  },
  {
   "cell_type": "code",
   "execution_count": null,
   "metadata": {
    "collapsed": true
   },
   "outputs": [],
   "source": [
    "chmod u+x reverse"
   ]
  },
  {
   "cell_type": "code",
   "execution_count": null,
   "metadata": {
    "collapsed": true
   },
   "outputs": [],
   "source": [
    "./reverse < alphabet.txt"
   ]
  },
  {
   "cell_type": "markdown",
   "metadata": {},
   "source": [
    "### Task 9\n",
    "\n",
    "- go to the directory `files_for_practice/random_files`\n",
    "- how many files in total are in this directory?\n",
    "- how many \"png\" files are in this directory?\n",
    "\n",
    "\n",
    "**Hints**:\n",
    "\n",
    "- `ls` has an option `-1`. With this option, each file would be printed as one single line.\n",
    "- Command `wc` can count the words and lines from standard input"
   ]
  },
  {
   "cell_type": "code",
   "execution_count": null,
   "metadata": {
    "collapsed": false
   },
   "outputs": [],
   "source": [
    "cd ../random_files"
   ]
  },
  {
   "cell_type": "code",
   "execution_count": null,
   "metadata": {
    "collapsed": false
   },
   "outputs": [],
   "source": [
    "ls -1 | wc -l"
   ]
  },
  {
   "cell_type": "code",
   "execution_count": null,
   "metadata": {
    "collapsed": false
   },
   "outputs": [],
   "source": [
    "ls -1 *.png | wc -l"
   ]
  },
  {
   "cell_type": "markdown",
   "metadata": {},
   "source": [
    "## grep\n",
    "\n",
    "grep is a powerful program that finds patterns"
   ]
  },
  {
   "cell_type": "code",
   "execution_count": null,
   "metadata": {
    "collapsed": true
   },
   "outputs": [],
   "source": [
    "grep ^d users.txt"
   ]
  },
  {
   "cell_type": "code",
   "execution_count": null,
   "metadata": {
    "collapsed": true
   },
   "outputs": [],
   "source": [
    "grep ^d *.txt"
   ]
  },
  {
   "cell_type": "code",
   "execution_count": null,
   "metadata": {
    "collapsed": false
   },
   "outputs": [],
   "source": [
    "ls -1 | grep -E i.\\.mp3"
   ]
  },
  {
   "cell_type": "code",
   "execution_count": null,
   "metadata": {
    "collapsed": true
   },
   "outputs": [],
   "source": []
  }
 ],
 "metadata": {
  "kernelspec": {
   "display_name": "Bash",
   "language": "bash",
   "name": "bash"
  },
  "language_info": {
   "codemirror_mode": "shell",
   "file_extension": ".sh",
   "mimetype": "text/x-sh",
   "name": "bash"
  }
 },
 "nbformat": 4,
 "nbformat_minor": 0
}
