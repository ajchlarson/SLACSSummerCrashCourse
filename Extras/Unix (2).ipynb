{
 "cells": [
  {
   "cell_type": "markdown",
   "metadata": {},
   "source": [
    "# Shell scripts\n",
    "\n",
    "This is a tutorial on Shell Command Language (shell scripts) for the [KIPAC computing boot camp](http://kipac.github.io/BootCamp).\n",
    "\n",
    "Author: [Yao-Yuan Mao](http://yymao.github.io)"
   ]
  },
  {
   "cell_type": "markdown",
   "metadata": {},
   "source": [
    "Everything we type into the unix/linux command line interface is interpreted as \"shell script\", or \"shell command language\". There are [many different implementations](https://en.wikipedia.org/wiki/Comparison_of_command_shells#General_characteristics). Two of the most common ones are `bash` and `(t)csh`. \n",
    "\n",
    "Apparently (sadly?), despite some limited common features, different implementations would have differnt syntax, "
   ]
  },
  {
   "cell_type": "markdown",
   "metadata": {},
   "source": [
    "## Define and set variables\n",
    "\n",
    "Some common features:\n",
    "\n",
    "- To _call_ a variable, always start with the dollar sign (&#36;). For example, `$x` or `${x}`.\n",
    "- To _set_ a variable, the dollar sign is not needed. \n",
    "- Variable names are case-sensitive."
   ]
  },
  {
   "cell_type": "code",
   "execution_count": 2,
   "metadata": {
    "collapsed": false
   },
   "outputs": [
    {
     "name": "stdout",
     "output_type": "stream",
     "text": [
      "1\r\n"
     ]
    }
   ],
   "source": [
    "#bash\n",
    "\n",
    "x=1\n",
    "echo $x"
   ]
  },
  {
   "cell_type": "code",
   "execution_count": 12,
   "metadata": {
    "collapsed": false
   },
   "outputs": [
    {
     "name": "stdout",
     "output_type": "stream",
     "text": [
      "1\r\n"
     ]
    }
   ],
   "source": [
    "#csh \n",
    "\n",
    "set x 1\n",
    "echo $x"
   ]
  },
  {
   "cell_type": "markdown",
   "metadata": {},
   "source": [
    "You can also set variable content to string. Note the different quotation marks used here. When double quote is used, the variables inside the quotation would be expanded. "
   ]
  },
  {
   "cell_type": "code",
   "execution_count": null,
   "metadata": {
    "collapsed": true
   },
   "outputs": [],
   "source": [
    "#bash\n",
    "\n",
    "x='world'\n",
    "y=\"hello $x\"\n",
    "z='hello $x'\n",
    "\n",
    "echo $y\n",
    "echo $z"
   ]
  },
  {
   "cell_type": "code",
   "execution_count": null,
   "metadata": {
    "collapsed": true
   },
   "outputs": [],
   "source": [
    "#csh\n",
    "\n",
    "set x 'world'\n",
    "set y \"hello $x\"\n",
    "set z 'hello $x'\n",
    "\n",
    "echo $y\n",
    "echo $z"
   ]
  },
  {
   "cell_type": "markdown",
   "metadata": {},
   "source": [
    "These variables are local variables. That means they are not accessbile from other subshells. \n",
    "\n",
    "To make them \"enviorment variables\", you have to \"export\" them."
   ]
  },
  {
   "cell_type": "code",
   "execution_count": null,
   "metadata": {
    "collapsed": true
   },
   "outputs": [],
   "source": [
    "#bash\n",
    "\n",
    "export X=\"abc\""
   ]
  },
  {
   "cell_type": "code",
   "execution_count": 13,
   "metadata": {
    "collapsed": false
   },
   "outputs": [
    {
     "name": "stdout",
     "output_type": "stream",
     "text": [
      "No command 'setenv' found, did you mean:\r\n",
      " Command 'netenv' from package 'netenv' (universe)\r\n",
      "setenv: command not found\r\n"
     ]
    }
   ],
   "source": [
    "#csh\n",
    "\n",
    "setenv X \"abc\""
   ]
  },
  {
   "cell_type": "markdown",
   "metadata": {
    "collapsed": true
   },
   "source": [
    "## startup scripts\n",
    "\n",
    "One place where you have to use shell scripts is the start script. The start script is usually called:\n",
    "\n",
    "    .bashrc\n",
    "    .bash_profile\n",
    "    .cshrc\n",
    "    .login\n",
    "    .profile\n",
    "\n",
    "and it sits in your \"home directory\". \n",
    "\n",
    "**Reminder**: To go to your home directory, type `cd ~`.\n",
    "\n",
    "In most cases you want to put the script that sets enviorment variables in the startup script. \n",
    "\n",
    "Another useful thing to add in the startup script is alias, with which you can create shortcut to some commonly used commands."
   ]
  },
  {
   "cell_type": "code",
   "execution_count": null,
   "metadata": {
    "collapsed": true
   },
   "outputs": [],
   "source": [
    "#bash\n",
    "alias ll='ls -l'"
   ]
  },
  {
   "cell_type": "code",
   "execution_count": null,
   "metadata": {
    "collapsed": true
   },
   "outputs": [],
   "source": [
    "#csh\n",
    "alias ll 'ls -l'"
   ]
  },
  {
   "cell_type": "code",
   "execution_count": null,
   "metadata": {
    "collapsed": true
   },
   "outputs": [],
   "source": []
  }
 ],
 "metadata": {
  "kernelspec": {
   "display_name": "Bash",
   "language": "bash",
   "name": "bash"
  },
  "language_info": {
   "codemirror_mode": "shell",
   "file_extension": ".sh",
   "mimetype": "text/x-sh",
   "name": "bash"
  }
 },
 "nbformat": 4,
 "nbformat_minor": 0
}
