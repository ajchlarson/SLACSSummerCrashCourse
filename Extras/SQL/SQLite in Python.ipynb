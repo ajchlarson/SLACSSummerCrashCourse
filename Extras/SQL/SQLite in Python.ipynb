{
 "cells": [
  {
   "cell_type": "markdown",
   "metadata": {},
   "source": [
    "# Python examples using SQLite"
   ]
  },
  {
   "cell_type": "markdown",
   "metadata": {},
   "source": [
    "First off, Let's go ahead and initialize the python module and open a database.\n",
    "If `example.db` already exists, this will just go ahead and open the file. If not, a new file named `example.db` will be opened."
   ]
  },
  {
   "cell_type": "code",
   "execution_count": 13,
   "metadata": {
    "collapsed": true
   },
   "outputs": [],
   "source": [
    "import sqlite3\n",
    "\n",
    "connection = sqlite3.connect(\"example.db\")"
   ]
  },
  {
   "cell_type": "markdown",
   "metadata": {},
   "source": [
    "`sqlite3` is actually a python database API conforming to the [DBAPI 2.0](https://www.python.org/dev/peps/pep-0249/) specification. Most databases systems have an implementation. There's differences here and there, for example: we \"connect\" to a file with the `sqlite3` module, but in the `MySQLdb` module, you connect to a server."
   ]
  },
  {
   "cell_type": "markdown",
   "metadata": {},
   "source": [
    "In order to perform queries against the SQLite database, we need to acquire a cursor."
   ]
  },
  {
   "cell_type": "code",
   "execution_count": 14,
   "metadata": {
    "collapsed": false
   },
   "outputs": [],
   "source": [
    "cursor = connection.cursor()"
   ]
  },
  {
   "cell_type": "markdown",
   "metadata": {},
   "source": [
    "Now that we've got a cursor, let's go ahead and create a table and add some rows using a DDL statement followed by some DML queries"
   ]
  },
  {
   "cell_type": "code",
   "execution_count": 15,
   "metadata": {
    "collapsed": false
   },
   "outputs": [
    {
     "data": {
      "text/plain": [
       "<sqlite3.Cursor at 0x106c8b7a0>"
      ]
     },
     "execution_count": 15,
     "metadata": {},
     "output_type": "execute_result"
    }
   ],
   "source": [
    "try:\n",
    "    cursor.execute(\"DROP TABLE Point\") # Let's clean up the database just in case\n",
    "except Exception:\n",
    "    pass\n",
    "\n",
    "cursor.execute(\"CREATE TABLE Point (x NUMBER, y NUMBER)\")\n",
    "cursor.execute(\"INSERT INTO Point VALUES (1, 2)\")\n",
    "cursor.execute(\"INSERT INTO Point VALUES (2, 4)\")\n",
    "cursor.execute(\"INSERT INTO Point VALUES (-2, 3)\")"
   ]
  },
  {
   "cell_type": "markdown",
   "metadata": {},
   "source": [
    "Great! Now we've added a few rows to our table. Let's retrieve them."
   ]
  },
  {
   "cell_type": "code",
   "execution_count": 16,
   "metadata": {
    "collapsed": false
   },
   "outputs": [
    {
     "name": "stdout",
     "output_type": "stream",
     "text": [
      "[(1, 2), (2, 4), (-2, 3)]\n"
     ]
    }
   ],
   "source": [
    "cursor.execute(\"SELECT * FROM Point\")\n",
    "results = cursor.fetchall()\n",
    "print results"
   ]
  },
  {
   "cell_type": "markdown",
   "metadata": {},
   "source": [
    "The `cursor` object is basically a context handle to a database. After we execute our `SELECT` statement, we want to retrieve the data. In this case, I knew there wasn't too many results to return, so I just retrieved them all by running `cursor.fetchall()`. This consumes all the results from the database using the handle. Most database handles are similar to a forward-only iterator, so running `cursor.fetchall()` twice will produce nothing the second time. In practice, it's usually better to use `cursor.fetchmany()` and repeat that until no more results are returned. You can also use `cursor.fetchone()` similarly."
   ]
  },
  {
   "cell_type": "markdown",
   "metadata": {},
   "source": [
    "Because `cursor` and `connection` are effectively handles to a resource, typically memory, it's very important that we try as hard as we can to release these resources when possible. There are patterns in python which help with this, but I'll just do the simple case below."
   ]
  },
  {
   "cell_type": "code",
   "execution_count": 17,
   "metadata": {
    "collapsed": true
   },
   "outputs": [],
   "source": [
    "cursor.close()\n",
    "connection.close()"
   ]
  }
 ],
 "metadata": {
  "kernelspec": {
   "display_name": "Python 2",
   "language": "python",
   "name": "python2"
  },
  "language_info": {
   "codemirror_mode": {
    "name": "ipython",
    "version": 2
   },
   "file_extension": ".py",
   "mimetype": "text/x-python",
   "name": "python",
   "nbconvert_exporter": "python",
   "pygments_lexer": "ipython2",
   "version": "2.7.10"
  }
 },
 "nbformat": 4,
 "nbformat_minor": 0
}
