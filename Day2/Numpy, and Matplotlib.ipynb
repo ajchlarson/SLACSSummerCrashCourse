{
 "cells": [
  {
   "cell_type": "markdown",
   "metadata": {},
   "source": [
    "# Python: numpy, and matplotlib\n",
    "\n",
    "This is a tutorial on scientific Python for the [KIPAC computing boot camp](http://kipac.github.io/BootCamp).\n",
    "\n",
    "Authors: [Yao-Yuan Mao](http://yymao.github.io), [Joe DeRose](https://github.com/j-dr)"
   ]
  },
  {
   "cell_type": "code",
   "execution_count": 15,
   "metadata": {
    "collapsed": false
   },
   "outputs": [],
   "source": [
    "from __future__ import print_function, division\n",
    "import numpy as np\n",
    "import matplotlib.pyplot as plt\n",
    "%matplotlib inline\n",
    "from IPython.display import display"
   ]
  },
  {
   "cell_type": "markdown",
   "metadata": {},
   "source": [
    "Numpy and matplotlib are the workhorse packages of the scientist using python. Efficient use of numpy is the only way to perform most operations in a tractable amount of time in python. Once you've performed those operations, matplotlib is the go to package for visualization.\n",
    "\n",
    "## Outline\n",
    "* **Numpy**\n",
    "    * Creating arrays  \n",
    "    * Manipulating arrays  \n",
    "    * Under the hood\n",
    "    * Common array operations\n",
    "    * Useful functions\n",
    "* **Matplotlib**"
   ]
  },
  {
   "cell_type": "markdown",
   "metadata": {},
   "source": [
    "## Numpy\n",
    "Why use numpy instead of regular old python?\n",
    "\n",
    "**python** has built-in:   \n",
    "containers: lists (costless insertion and append), dictionaries (fast lookup),...  \n",
    "high-level number objects: integers, floating point\n",
    "\n",
    "\n",
    "**numpy** is:   \n",
    "an extension package to Python for multidimensional arrays   \n",
    "closer to hardware (efficiency)   \n",
    "designed for scientific computation (convenience)   \n"
   ]
  },
  {
   "cell_type": "markdown",
   "metadata": {},
   "source": [
    "### Creating arrays\n",
    "The fundamental object in numpy is the ndarray. There are many different ways to create an array, as outlined below."
   ]
  },
  {
   "cell_type": "code",
   "execution_count": 16,
   "metadata": {
    "collapsed": false
   },
   "outputs": [
    {
     "name": "stdout",
     "output_type": "stream",
     "text": [
      "The shape of this array is (10, 10)\n"
     ]
    },
    {
     "data": {
      "text/plain": [
       "array([[  0.00000000e+000,   4.94065646e-324,   9.88131292e-324,\n",
       "          1.48219694e-323,   1.97626258e-323,   2.47032823e-323,\n",
       "          2.96439388e-323,   3.45845952e-323,   3.95252517e-323,\n",
       "          4.44659081e-323],\n",
       "       [  4.94065646e-323,   5.43472210e-323,   5.92878775e-323,\n",
       "          6.42285340e-323,   6.91691904e-323,   7.41098469e-323,\n",
       "          7.90505033e-323,   8.39911598e-323,   8.89318163e-323,\n",
       "          9.38724727e-323],\n",
       "       [  9.88131292e-323,   1.03753786e-322,   1.08694442e-322,\n",
       "          1.13635099e-322,   1.18575755e-322,   1.23516411e-322,\n",
       "          1.28457068e-322,   1.33397724e-322,   1.38338381e-322,\n",
       "          1.43279037e-322],\n",
       "       [  1.48219694e-322,   1.53160350e-322,   1.58101007e-322,\n",
       "          1.63041663e-322,   1.67982320e-322,   1.72922976e-322,\n",
       "          1.77863633e-322,   1.82804289e-322,   1.87744945e-322,\n",
       "          1.92685602e-322],\n",
       "       [  1.97626258e-322,   2.02566915e-322,   2.07507571e-322,\n",
       "          2.12448228e-322,   2.17388884e-322,   2.22329541e-322,\n",
       "          2.27270197e-322,   2.32210854e-322,   2.37151510e-322,\n",
       "          2.42092166e-322],\n",
       "       [  2.47032823e-322,   2.51973479e-322,   2.56914136e-322,\n",
       "          2.61854792e-322,   2.66795449e-322,   2.71736105e-322,\n",
       "          2.76676762e-322,   2.81617418e-322,   2.86558075e-322,\n",
       "          2.91498731e-322],\n",
       "       [  2.96439388e-322,   3.01380044e-322,   3.06320700e-322,\n",
       "          3.11261357e-322,   3.16202013e-322,   3.21142670e-322,\n",
       "          3.26083326e-322,   3.31023983e-322,   3.35964639e-322,\n",
       "          3.40905296e-322],\n",
       "       [  3.45845952e-322,   3.50786609e-322,   3.55727265e-322,\n",
       "          3.60667921e-322,   3.65608578e-322,   3.70549234e-322,\n",
       "          3.75489891e-322,   3.80430547e-322,   3.85371204e-322,\n",
       "          3.90311860e-322],\n",
       "       [  3.95252517e-322,   4.00193173e-322,   4.05133830e-322,\n",
       "          4.10074486e-322,   4.15015143e-322,   4.19955799e-322,\n",
       "          4.24896455e-322,   4.29837112e-322,   4.34777768e-322,\n",
       "          4.39718425e-322],\n",
       "       [  4.44659081e-322,   4.49599738e-322,   4.54540394e-322,\n",
       "          4.59481051e-322,   4.64421707e-322,   4.69362364e-322,\n",
       "          4.74303020e-322,   4.79243676e-322,   4.84184333e-322,\n",
       "          4.89124989e-322]])"
      ]
     },
     "metadata": {},
     "output_type": "display_data"
    }
   ],
   "source": [
    "#an array of all zeros (pass in the shape of the array you want)\n",
    "shape = (10,10)\n",
    "z = np.ndarray(shape)\n",
    "print('The shape of this array is {0}'.format(z.shape))\n",
    "display(z)"
   ]
  },
  {
   "cell_type": "code",
   "execution_count": 17,
   "metadata": {
    "collapsed": false
   },
   "outputs": [
    {
     "data": {
      "text/plain": [
       "array([[ 0.,  0.,  0.,  0.,  0.,  0.,  0.,  0.,  0.,  0.],\n",
       "       [ 0.,  0.,  0.,  0.,  0.,  0.,  0.,  0.,  0.,  0.],\n",
       "       [ 0.,  0.,  0.,  0.,  0.,  0.,  0.,  0.,  0.,  0.],\n",
       "       [ 0.,  0.,  0.,  0.,  0.,  0.,  0.,  0.,  0.,  0.],\n",
       "       [ 0.,  0.,  0.,  0.,  0.,  0.,  0.,  0.,  0.,  0.],\n",
       "       [ 0.,  0.,  0.,  0.,  0.,  0.,  0.,  0.,  0.,  0.],\n",
       "       [ 0.,  0.,  0.,  0.,  0.,  0.,  0.,  0.,  0.,  0.],\n",
       "       [ 0.,  0.,  0.,  0.,  0.,  0.,  0.,  0.,  0.,  0.],\n",
       "       [ 0.,  0.,  0.,  0.,  0.,  0.,  0.,  0.,  0.,  0.],\n",
       "       [ 0.,  0.,  0.,  0.,  0.,  0.,  0.,  0.,  0.,  0.]])"
      ]
     },
     "metadata": {},
     "output_type": "display_data"
    }
   ],
   "source": [
    "#an array of zeros\n",
    "z = np.zeros(shape)\n",
    "display(z)"
   ]
  },
  {
   "cell_type": "code",
   "execution_count": 18,
   "metadata": {
    "collapsed": false
   },
   "outputs": [
    {
     "data": {
      "text/plain": [
       "array([ 0,  1,  2,  3,  4,  5,  6,  7,  8,  9, 10, 11, 12, 13, 14, 15, 16,\n",
       "       17, 18, 19, 20, 21, 22, 23, 24, 25, 26, 27, 28, 29, 30, 31, 32, 33,\n",
       "       34, 35, 36, 37, 38, 39, 40, 41, 42, 43, 44, 45, 46, 47, 48, 49, 50,\n",
       "       51, 52, 53, 54, 55, 56, 57, 58, 59, 60, 61, 62, 63, 64, 65, 66, 67,\n",
       "       68, 69, 70, 71, 72, 73, 74, 75, 76, 77, 78, 79, 80, 81, 82, 83, 84,\n",
       "       85, 86, 87, 88, 89, 90, 91, 92, 93, 94, 95, 96, 97, 98, 99])"
      ]
     },
     "metadata": {},
     "output_type": "display_data"
    }
   ],
   "source": [
    "#A range of integers\n",
    "a = np.arange(100)\n",
    "display(a)"
   ]
  },
  {
   "cell_type": "code",
   "execution_count": 19,
   "metadata": {
    "collapsed": false
   },
   "outputs": [
    {
     "data": {
      "text/plain": [
       "array([ 0.        ,  0.05050505,  0.1010101 ,  0.15151515,  0.2020202 ,\n",
       "        0.25252525,  0.3030303 ,  0.35353535,  0.4040404 ,  0.45454545,\n",
       "        0.50505051,  0.55555556,  0.60606061,  0.65656566,  0.70707071,\n",
       "        0.75757576,  0.80808081,  0.85858586,  0.90909091,  0.95959596,\n",
       "        1.01010101,  1.06060606,  1.11111111,  1.16161616,  1.21212121,\n",
       "        1.26262626,  1.31313131,  1.36363636,  1.41414141,  1.46464646,\n",
       "        1.51515152,  1.56565657,  1.61616162,  1.66666667,  1.71717172,\n",
       "        1.76767677,  1.81818182,  1.86868687,  1.91919192,  1.96969697,\n",
       "        2.02020202,  2.07070707,  2.12121212,  2.17171717,  2.22222222,\n",
       "        2.27272727,  2.32323232,  2.37373737,  2.42424242,  2.47474747,\n",
       "        2.52525253,  2.57575758,  2.62626263,  2.67676768,  2.72727273,\n",
       "        2.77777778,  2.82828283,  2.87878788,  2.92929293,  2.97979798,\n",
       "        3.03030303,  3.08080808,  3.13131313,  3.18181818,  3.23232323,\n",
       "        3.28282828,  3.33333333,  3.38383838,  3.43434343,  3.48484848,\n",
       "        3.53535354,  3.58585859,  3.63636364,  3.68686869,  3.73737374,\n",
       "        3.78787879,  3.83838384,  3.88888889,  3.93939394,  3.98989899,\n",
       "        4.04040404,  4.09090909,  4.14141414,  4.19191919,  4.24242424,\n",
       "        4.29292929,  4.34343434,  4.39393939,  4.44444444,  4.49494949,\n",
       "        4.54545455,  4.5959596 ,  4.64646465,  4.6969697 ,  4.74747475,\n",
       "        4.7979798 ,  4.84848485,  4.8989899 ,  4.94949495,  5.        ])"
      ]
     },
     "metadata": {},
     "output_type": "display_data"
    }
   ],
   "source": [
    "#An array with numbers at linearly spaced intervals\n",
    "l = np.linspace(0,5,100)\n",
    "display(l)"
   ]
  },
  {
   "cell_type": "code",
   "execution_count": 20,
   "metadata": {
    "collapsed": false
   },
   "outputs": [
    {
     "data": {
      "text/plain": [
       "array([  1.00000000e+01,   1.09749877e+01,   1.20450354e+01,\n",
       "         1.32194115e+01,   1.45082878e+01,   1.59228279e+01,\n",
       "         1.74752840e+01,   1.91791026e+01,   2.10490414e+01,\n",
       "         2.31012970e+01,   2.53536449e+01,   2.78255940e+01,\n",
       "         3.05385551e+01,   3.35160265e+01,   3.67837977e+01,\n",
       "         4.03701726e+01,   4.43062146e+01,   4.86260158e+01,\n",
       "         5.33669923e+01,   5.85702082e+01,   6.42807312e+01,\n",
       "         7.05480231e+01,   7.74263683e+01,   8.49753436e+01,\n",
       "         9.32603347e+01,   1.02353102e+02,   1.12332403e+02,\n",
       "         1.23284674e+02,   1.35304777e+02,   1.48496826e+02,\n",
       "         1.62975083e+02,   1.78864953e+02,   1.96304065e+02,\n",
       "         2.15443469e+02,   2.36448941e+02,   2.59502421e+02,\n",
       "         2.84803587e+02,   3.12571585e+02,   3.43046929e+02,\n",
       "         3.76493581e+02,   4.13201240e+02,   4.53487851e+02,\n",
       "         4.97702356e+02,   5.46227722e+02,   5.99484250e+02,\n",
       "         6.57933225e+02,   7.22080902e+02,   7.92482898e+02,\n",
       "         8.69749003e+02,   9.54548457e+02,   1.04761575e+03,\n",
       "         1.14975700e+03,   1.26185688e+03,   1.38488637e+03,\n",
       "         1.51991108e+03,   1.66810054e+03,   1.83073828e+03,\n",
       "         2.00923300e+03,   2.20513074e+03,   2.42012826e+03,\n",
       "         2.65608778e+03,   2.91505306e+03,   3.19926714e+03,\n",
       "         3.51119173e+03,   3.85352859e+03,   4.22924287e+03,\n",
       "         4.64158883e+03,   5.09413801e+03,   5.59081018e+03,\n",
       "         6.13590727e+03,   6.73415066e+03,   7.39072203e+03,\n",
       "         8.11130831e+03,   8.90215085e+03,   9.77009957e+03,\n",
       "         1.07226722e+04,   1.17681195e+04,   1.29154967e+04,\n",
       "         1.41747416e+04,   1.55567614e+04,   1.70735265e+04,\n",
       "         1.87381742e+04,   2.05651231e+04,   2.25701972e+04,\n",
       "         2.47707636e+04,   2.71858824e+04,   2.98364724e+04,\n",
       "         3.27454916e+04,   3.59381366e+04,   3.94420606e+04,\n",
       "         4.32876128e+04,   4.75081016e+04,   5.21400829e+04,\n",
       "         5.72236766e+04,   6.28029144e+04,   6.89261210e+04,\n",
       "         7.56463328e+04,   8.30217568e+04,   9.11162756e+04,\n",
       "         1.00000000e+05])"
      ]
     },
     "metadata": {},
     "output_type": "display_data"
    }
   ],
   "source": [
    "#An array with numbers at log spaced intervals\n",
    "l = np.logspace(1,5,100)\n",
    "display(l)"
   ]
  },
  {
   "cell_type": "code",
   "execution_count": 21,
   "metadata": {
    "collapsed": false
   },
   "outputs": [
    {
     "data": {
      "text/plain": [
       "(100,)"
      ]
     },
     "execution_count": 21,
     "metadata": {},
     "output_type": "execute_result"
    }
   ],
   "source": [
    "l.shape"
   ]
  },
  {
   "cell_type": "code",
   "execution_count": 22,
   "metadata": {
    "collapsed": false
   },
   "outputs": [
    {
     "name": "stdout",
     "output_type": "stream",
     "text": [
      "<type 'list'>\n",
      "<type 'numpy.ndarray'>\n",
      "[0, 1, 2, 3, 4, 5, 6, 7, 8, 9, 10, 11, 12, 13, 14, 15, 16, 17, 18, 19, 20, 21, 22, 23, 24, 25, 26, 27, 28, 29, 30, 31, 32, 33, 34, 35, 36, 37, 38, 39, 40, 41, 42, 43, 44, 45, 46, 47, 48, 49, 50, 51, 52, 53, 54, 55, 56, 57, 58, 59, 60, 61, 62, 63, 64, 65, 66, 67, 68, 69, 70, 71, 72, 73, 74, 75, 76, 77, 78, 79, 80, 81, 82, 83, 84, 85, 86, 87, 88, 89, 90, 91, 92, 93, 94, 95, 96, 97, 98, 99]\n"
     ]
    },
    {
     "data": {
      "text/plain": [
       "array([ 0,  1,  2,  3,  4,  5,  6,  7,  8,  9, 10, 11, 12, 13, 14, 15, 16,\n",
       "       17, 18, 19, 20, 21, 22, 23, 24, 25, 26, 27, 28, 29, 30, 31, 32, 33,\n",
       "       34, 35, 36, 37, 38, 39, 40, 41, 42, 43, 44, 45, 46, 47, 48, 49, 50,\n",
       "       51, 52, 53, 54, 55, 56, 57, 58, 59, 60, 61, 62, 63, 64, 65, 66, 67,\n",
       "       68, 69, 70, 71, 72, 73, 74, 75, 76, 77, 78, 79, 80, 81, 82, 83, 84,\n",
       "       85, 86, 87, 88, 89, 90, 91, 92, 93, 94, 95, 96, 97, 98, 99])"
      ]
     },
     "metadata": {},
     "output_type": "display_data"
    }
   ],
   "source": [
    "#1-d array creation from a list\n",
    "l = range(100)\n",
    "la = np.array(l)\n",
    "print(type(l))\n",
    "print(type(la))\n",
    "print(l)\n",
    "display(la)"
   ]
  },
  {
   "cell_type": "code",
   "execution_count": 23,
   "metadata": {
    "collapsed": false
   },
   "outputs": [
    {
     "data": {
      "text/plain": [
       "array([[0, 1, 2], [3, 4]], dtype=object)"
      ]
     },
     "metadata": {},
     "output_type": "display_data"
    },
    {
     "name": "stdout",
     "output_type": "stream",
     "text": [
      "(2,)\n"
     ]
    }
   ],
   "source": [
    "#2-d array creation from a list\n",
    "l = [[0,1,2], [3,4]]\n",
    "la = np.array(l)\n",
    "display(la)\n",
    "print(la.shape)"
   ]
  },
  {
   "cell_type": "code",
   "execution_count": 24,
   "metadata": {
    "collapsed": false
   },
   "outputs": [
    {
     "data": {
      "text/plain": [
       "array([[[1],\n",
       "        [2]],\n",
       "\n",
       "       [[3],\n",
       "        [4]]])"
      ]
     },
     "metadata": {},
     "output_type": "display_data"
    },
    {
     "name": "stdout",
     "output_type": "stream",
     "text": [
      "(2, 2, 1)\n"
     ]
    }
   ],
   "source": [
    "#3-d array\n",
    "c = np.array([[[1], [2]], [[3], [4]]])\n",
    "display(c)\n",
    "print(c.shape)"
   ]
  },
  {
   "cell_type": "code",
   "execution_count": 11,
   "metadata": {
    "collapsed": false
   },
   "outputs": [
    {
     "data": {
      "text/plain": [
       "[array([[ 0.        ,  0.11111111,  0.22222222,  0.33333333,  0.44444444,\n",
       "          0.55555556,  0.66666667,  0.77777778,  0.88888889,  1.        ],\n",
       "        [ 0.        ,  0.11111111,  0.22222222,  0.33333333,  0.44444444,\n",
       "          0.55555556,  0.66666667,  0.77777778,  0.88888889,  1.        ],\n",
       "        [ 0.        ,  0.11111111,  0.22222222,  0.33333333,  0.44444444,\n",
       "          0.55555556,  0.66666667,  0.77777778,  0.88888889,  1.        ],\n",
       "        [ 0.        ,  0.11111111,  0.22222222,  0.33333333,  0.44444444,\n",
       "          0.55555556,  0.66666667,  0.77777778,  0.88888889,  1.        ],\n",
       "        [ 0.        ,  0.11111111,  0.22222222,  0.33333333,  0.44444444,\n",
       "          0.55555556,  0.66666667,  0.77777778,  0.88888889,  1.        ],\n",
       "        [ 0.        ,  0.11111111,  0.22222222,  0.33333333,  0.44444444,\n",
       "          0.55555556,  0.66666667,  0.77777778,  0.88888889,  1.        ],\n",
       "        [ 0.        ,  0.11111111,  0.22222222,  0.33333333,  0.44444444,\n",
       "          0.55555556,  0.66666667,  0.77777778,  0.88888889,  1.        ],\n",
       "        [ 0.        ,  0.11111111,  0.22222222,  0.33333333,  0.44444444,\n",
       "          0.55555556,  0.66666667,  0.77777778,  0.88888889,  1.        ],\n",
       "        [ 0.        ,  0.11111111,  0.22222222,  0.33333333,  0.44444444,\n",
       "          0.55555556,  0.66666667,  0.77777778,  0.88888889,  1.        ],\n",
       "        [ 0.        ,  0.11111111,  0.22222222,  0.33333333,  0.44444444,\n",
       "          0.55555556,  0.66666667,  0.77777778,  0.88888889,  1.        ],\n",
       "        [ 0.        ,  0.11111111,  0.22222222,  0.33333333,  0.44444444,\n",
       "          0.55555556,  0.66666667,  0.77777778,  0.88888889,  1.        ],\n",
       "        [ 0.        ,  0.11111111,  0.22222222,  0.33333333,  0.44444444,\n",
       "          0.55555556,  0.66666667,  0.77777778,  0.88888889,  1.        ],\n",
       "        [ 0.        ,  0.11111111,  0.22222222,  0.33333333,  0.44444444,\n",
       "          0.55555556,  0.66666667,  0.77777778,  0.88888889,  1.        ],\n",
       "        [ 0.        ,  0.11111111,  0.22222222,  0.33333333,  0.44444444,\n",
       "          0.55555556,  0.66666667,  0.77777778,  0.88888889,  1.        ],\n",
       "        [ 0.        ,  0.11111111,  0.22222222,  0.33333333,  0.44444444,\n",
       "          0.55555556,  0.66666667,  0.77777778,  0.88888889,  1.        ],\n",
       "        [ 0.        ,  0.11111111,  0.22222222,  0.33333333,  0.44444444,\n",
       "          0.55555556,  0.66666667,  0.77777778,  0.88888889,  1.        ],\n",
       "        [ 0.        ,  0.11111111,  0.22222222,  0.33333333,  0.44444444,\n",
       "          0.55555556,  0.66666667,  0.77777778,  0.88888889,  1.        ],\n",
       "        [ 0.        ,  0.11111111,  0.22222222,  0.33333333,  0.44444444,\n",
       "          0.55555556,  0.66666667,  0.77777778,  0.88888889,  1.        ],\n",
       "        [ 0.        ,  0.11111111,  0.22222222,  0.33333333,  0.44444444,\n",
       "          0.55555556,  0.66666667,  0.77777778,  0.88888889,  1.        ],\n",
       "        [ 0.        ,  0.11111111,  0.22222222,  0.33333333,  0.44444444,\n",
       "          0.55555556,  0.66666667,  0.77777778,  0.88888889,  1.        ]]),\n",
       " array([[-1.        , -1.        , -1.        , -1.        , -1.        ,\n",
       "         -1.        , -1.        , -1.        , -1.        , -1.        ],\n",
       "        [-0.89473684, -0.89473684, -0.89473684, -0.89473684, -0.89473684,\n",
       "         -0.89473684, -0.89473684, -0.89473684, -0.89473684, -0.89473684],\n",
       "        [-0.78947368, -0.78947368, -0.78947368, -0.78947368, -0.78947368,\n",
       "         -0.78947368, -0.78947368, -0.78947368, -0.78947368, -0.78947368],\n",
       "        [-0.68421053, -0.68421053, -0.68421053, -0.68421053, -0.68421053,\n",
       "         -0.68421053, -0.68421053, -0.68421053, -0.68421053, -0.68421053],\n",
       "        [-0.57894737, -0.57894737, -0.57894737, -0.57894737, -0.57894737,\n",
       "         -0.57894737, -0.57894737, -0.57894737, -0.57894737, -0.57894737],\n",
       "        [-0.47368421, -0.47368421, -0.47368421, -0.47368421, -0.47368421,\n",
       "         -0.47368421, -0.47368421, -0.47368421, -0.47368421, -0.47368421],\n",
       "        [-0.36842105, -0.36842105, -0.36842105, -0.36842105, -0.36842105,\n",
       "         -0.36842105, -0.36842105, -0.36842105, -0.36842105, -0.36842105],\n",
       "        [-0.26315789, -0.26315789, -0.26315789, -0.26315789, -0.26315789,\n",
       "         -0.26315789, -0.26315789, -0.26315789, -0.26315789, -0.26315789],\n",
       "        [-0.15789474, -0.15789474, -0.15789474, -0.15789474, -0.15789474,\n",
       "         -0.15789474, -0.15789474, -0.15789474, -0.15789474, -0.15789474],\n",
       "        [-0.05263158, -0.05263158, -0.05263158, -0.05263158, -0.05263158,\n",
       "         -0.05263158, -0.05263158, -0.05263158, -0.05263158, -0.05263158],\n",
       "        [ 0.05263158,  0.05263158,  0.05263158,  0.05263158,  0.05263158,\n",
       "          0.05263158,  0.05263158,  0.05263158,  0.05263158,  0.05263158],\n",
       "        [ 0.15789474,  0.15789474,  0.15789474,  0.15789474,  0.15789474,\n",
       "          0.15789474,  0.15789474,  0.15789474,  0.15789474,  0.15789474],\n",
       "        [ 0.26315789,  0.26315789,  0.26315789,  0.26315789,  0.26315789,\n",
       "          0.26315789,  0.26315789,  0.26315789,  0.26315789,  0.26315789],\n",
       "        [ 0.36842105,  0.36842105,  0.36842105,  0.36842105,  0.36842105,\n",
       "          0.36842105,  0.36842105,  0.36842105,  0.36842105,  0.36842105],\n",
       "        [ 0.47368421,  0.47368421,  0.47368421,  0.47368421,  0.47368421,\n",
       "          0.47368421,  0.47368421,  0.47368421,  0.47368421,  0.47368421],\n",
       "        [ 0.57894737,  0.57894737,  0.57894737,  0.57894737,  0.57894737,\n",
       "          0.57894737,  0.57894737,  0.57894737,  0.57894737,  0.57894737],\n",
       "        [ 0.68421053,  0.68421053,  0.68421053,  0.68421053,  0.68421053,\n",
       "          0.68421053,  0.68421053,  0.68421053,  0.68421053,  0.68421053],\n",
       "        [ 0.78947368,  0.78947368,  0.78947368,  0.78947368,  0.78947368,\n",
       "          0.78947368,  0.78947368,  0.78947368,  0.78947368,  0.78947368],\n",
       "        [ 0.89473684,  0.89473684,  0.89473684,  0.89473684,  0.89473684,\n",
       "          0.89473684,  0.89473684,  0.89473684,  0.89473684,  0.89473684],\n",
       "        [ 1.        ,  1.        ,  1.        ,  1.        ,  1.        ,\n",
       "          1.        ,  1.        ,  1.        ,  1.        ,  1.        ]])]"
      ]
     },
     "metadata": {},
     "output_type": "display_data"
    }
   ],
   "source": [
    "x = np.linspace(0,1,10)\n",
    "y = np.linspace(-1,1,20)\n",
    "grid = np.meshgrid(x, y)\n",
    "display(grid)"
   ]
  },
  {
   "cell_type": "markdown",
   "metadata": {},
   "source": [
    "### Data types"
   ]
  },
  {
   "cell_type": "markdown",
   "metadata": {},
   "source": [
    "The type of the elements in an ndarray are specified in the array's dtype attribute. Numpy arrays can contain more than one type of data, but the types must be specified via the dtype!"
   ]
  },
  {
   "cell_type": "code",
   "execution_count": 25,
   "metadata": {
    "collapsed": false
   },
   "outputs": [
    {
     "name": "stdout",
     "output_type": "stream",
     "text": [
      "This array has type int64\n",
      "This array has type float64\n"
     ]
    }
   ],
   "source": [
    "#these are different arrays!\n",
    "a = np.array([1, 2, 3])\n",
    "print('This array has type {0}'.format(a.dtype))\n",
    "\n",
    "\n",
    "b = np.array([1., 2., 3.])\n",
    "print('This array has type {0}'.format(b.dtype))\n"
   ]
  },
  {
   "cell_type": "markdown",
   "metadata": {},
   "source": [
    "Type can be specified"
   ]
  },
  {
   "cell_type": "code",
   "execution_count": 26,
   "metadata": {
    "collapsed": false
   },
   "outputs": [
    {
     "name": "stdout",
     "output_type": "stream",
     "text": [
      "int64\n",
      "float64\n"
     ]
    }
   ],
   "source": [
    "a = np.array([0.,1.,2.], dtype=int)\n",
    "print(a.dtype)\n",
    "\n",
    "#default dtype is float\n",
    "a = np.zeros(2)\n",
    "print(a.dtype)"
   ]
  },
  {
   "cell_type": "markdown",
   "metadata": {},
   "source": [
    "You can have more than one type in an array, but it must be done in a particular fasion, and the type must have a predictable size in memory."
   ]
  },
  {
   "cell_type": "code",
   "execution_count": 27,
   "metadata": {
    "collapsed": false
   },
   "outputs": [
    {
     "name": "stdout",
     "output_type": "stream",
     "text": [
      "float64\n"
     ]
    },
    {
     "ename": "ValueError",
     "evalue": "could not convert string to float: h",
     "output_type": "error",
     "traceback": [
      "\u001b[0;31m---------------------------------------------------------------------------\u001b[0m",
      "\u001b[0;31mValueError\u001b[0m                                Traceback (most recent call last)",
      "\u001b[0;32m<ipython-input-27-e10ac216fdd8>\u001b[0m in \u001b[0;36m<module>\u001b[0;34m()\u001b[0m\n\u001b[1;32m      4\u001b[0m \u001b[0mz\u001b[0m\u001b[0;34m[\u001b[0m\u001b[0;36m0\u001b[0m\u001b[0;34m]\u001b[0m \u001b[0;34m=\u001b[0m \u001b[0;36m1.\u001b[0m\u001b[0;34m\u001b[0m\u001b[0m\n\u001b[1;32m      5\u001b[0m \u001b[0mz\u001b[0m\u001b[0;34m[\u001b[0m\u001b[0;36m1\u001b[0m\u001b[0;34m]\u001b[0m \u001b[0;34m=\u001b[0m \u001b[0;36m1\u001b[0m\u001b[0;34m\u001b[0m\u001b[0m\n\u001b[0;32m----> 6\u001b[0;31m \u001b[0mz\u001b[0m\u001b[0;34m[\u001b[0m\u001b[0;36m2\u001b[0m\u001b[0;34m]\u001b[0m \u001b[0;34m=\u001b[0m \u001b[0;34m'h'\u001b[0m\u001b[0;34m\u001b[0m\u001b[0m\n\u001b[0m\u001b[1;32m      7\u001b[0m \u001b[0mdisplay\u001b[0m\u001b[0;34m(\u001b[0m\u001b[0mz\u001b[0m\u001b[0;34m)\u001b[0m\u001b[0;34m\u001b[0m\u001b[0m\n",
      "\u001b[0;31mValueError\u001b[0m: could not convert string to float: h"
     ]
    }
   ],
   "source": [
    "#can't do this\n",
    "z = np.ones(3)\n",
    "print(z.dtype)\n",
    "z[0] = 1.\n",
    "z[1] = 1\n",
    "z[2] = 'h'\n",
    "display(z)"
   ]
  },
  {
   "cell_type": "code",
   "execution_count": 28,
   "metadata": {
    "collapsed": false
   },
   "outputs": [
    {
     "name": "stdout",
     "output_type": "stream",
     "text": [
      "[('c1', '<f8'), ('c2', '<i8'), ('c3', 'S140')]\n",
      "(3,)\n"
     ]
    },
    {
     "data": {
      "text/plain": [
       "array([( 1., 1, '1'), ( 1., 1, '1'), ( 1., 1, '1')], \n",
       "      dtype=[('c1', '<f8'), ('c2', '<i8'), ('c3', 'S140')])"
      ]
     },
     "metadata": {},
     "output_type": "display_data"
    }
   ],
   "source": [
    "#but can do it using more complex dtypes\n",
    "dt = np.dtype([('c1', np.float), ('c2', np.int), ('c3', 'S140')])\n",
    "z = np.ones(3, dtype=dt)\n",
    "print(z.dtype)\n",
    "print(z.shape)\n",
    "display(z)"
   ]
  },
  {
   "cell_type": "markdown",
   "metadata": {},
   "source": [
    "This type of array is called a record array. A few things to note:\n",
    "\n",
    "* It is still considered a 1 dimensional array, even though it has more than 1 column.\n",
    "* Accessing elements of a record array is a bit different.\n",
    "* We are required to name the different fields and define their datatypes."
   ]
  },
  {
   "cell_type": "code",
   "execution_count": 29,
   "metadata": {
    "collapsed": false
   },
   "outputs": [
    {
     "data": {
      "text/plain": [
       "('c1', 'c2', 'c3')"
      ]
     },
     "execution_count": 29,
     "metadata": {},
     "output_type": "execute_result"
    }
   ],
   "source": [
    "#check the names of the fields\n",
    "z.dtype.names"
   ]
  },
  {
   "cell_type": "code",
   "execution_count": 30,
   "metadata": {
    "collapsed": false
   },
   "outputs": [
    {
     "name": "stdout",
     "output_type": "stream",
     "text": [
      "[ 1.  1.  1.]\n",
      "float64\n"
     ]
    }
   ],
   "source": [
    "#accessing all rows of a particular field yields a normal array\n",
    "print(z['c1'])\n",
    "print(z['c1'].dtype)"
   ]
  },
  {
   "cell_type": "code",
   "execution_count": 31,
   "metadata": {
    "collapsed": false
   },
   "outputs": [
    {
     "name": "stdout",
     "output_type": "stream",
     "text": [
      "( 1., 1, '1')\n",
      "[('c1', '<f8'), ('c2', '<i8'), ('c3', 'S140')]\n"
     ]
    }
   ],
   "source": [
    "#accessing a row\n",
    "print(z[0])\n",
    "print(z[0].dtype)"
   ]
  },
  {
   "cell_type": "markdown",
   "metadata": {},
   "source": [
    "The size of the variable being assigned must be pre determined. We can't put strings longer than the length that was specified in the dtype!"
   ]
  },
  {
   "cell_type": "code",
   "execution_count": 32,
   "metadata": {
    "collapsed": false
   },
   "outputs": [
    {
     "data": {
      "text/plain": [
       "'xxxxxxxxxxxxxxxxxxxxxxxxxxxxxxxxxxxxxxxxxxxxxxxxxxxxxxxxxxxxxxxxxxxxxxxxxxxxxxxxxxxxxxxxxxxxxxxxxxxxxxxxxxxxxxxxxxxxxxxxxxxxxxxxxxxxxxxxxxxxxxxxxxxxxx'"
      ]
     },
     "execution_count": 32,
     "metadata": {},
     "output_type": "execute_result"
    }
   ],
   "source": [
    "'x'*150"
   ]
  },
  {
   "cell_type": "code",
   "execution_count": 33,
   "metadata": {
    "collapsed": false
   },
   "outputs": [
    {
     "data": {
      "text/plain": [
       "140"
      ]
     },
     "execution_count": 33,
     "metadata": {},
     "output_type": "execute_result"
    }
   ],
   "source": [
    "z['c3'][0] = 'x'*150\n",
    "len(z['c3'][0]) #whoops!"
   ]
  },
  {
   "cell_type": "markdown",
   "metadata": {},
   "source": [
    "### Exercise 1\n",
    "\n",
    "Create an array that can store strings of length at most 200 as well as booleans. "
   ]
  },
  {
   "cell_type": "code",
   "execution_count": null,
   "metadata": {
    "collapsed": false
   },
   "outputs": [],
   "source": []
  },
  {
   "cell_type": "markdown",
   "metadata": {},
   "source": [
    "### Indexing and slicing\n",
    "Numpy arrays support all the same indexing and slicing operations that standard python lists do. Numpy arrays are C ordered (the rows are indexed by the first index, columns by the second."
   ]
  },
  {
   "cell_type": "code",
   "execution_count": 34,
   "metadata": {
    "collapsed": false
   },
   "outputs": [
    {
     "data": {
      "text/plain": [
       "(0, 4, 10)"
      ]
     },
     "execution_count": 34,
     "metadata": {},
     "output_type": "execute_result"
    }
   ],
   "source": [
    "a = np.arange(100)\n",
    "#numpy arrays are zero indexed\n",
    "a[0], a[4], a[10]"
   ]
  },
  {
   "cell_type": "code",
   "execution_count": 35,
   "metadata": {
    "collapsed": false
   },
   "outputs": [
    {
     "data": {
      "text/plain": [
       "array([10,  8,  6,  4,  2])"
      ]
     },
     "execution_count": 35,
     "metadata": {},
     "output_type": "execute_result"
    }
   ],
   "source": [
    "#slicing\n",
    "a[10:0:-2] #syntax is same as for lists start:stop:step"
   ]
  },
  {
   "cell_type": "code",
   "execution_count": 36,
   "metadata": {
    "collapsed": false
   },
   "outputs": [
    {
     "data": {
      "text/plain": [
       "(100,)"
      ]
     },
     "execution_count": 36,
     "metadata": {},
     "output_type": "execute_result"
    }
   ],
   "source": [
    "a.shape"
   ]
  },
  {
   "cell_type": "code",
   "execution_count": 37,
   "metadata": {
    "collapsed": false
   },
   "outputs": [
    {
     "data": {
      "text/plain": [
       "array([[ 0,  1,  2,  3,  4,  5,  6,  7,  8,  9],\n",
       "       [10, 11, 12, 13, 14, 15, 16, 17, 18, 19],\n",
       "       [20, 21, 22, 23, 24, 25, 26, 27, 28, 29],\n",
       "       [30, 31, 32, 33, 34, 35, 36, 37, 38, 39],\n",
       "       [40, 41, 42, 43, 44, 45, 46, 47, 48, 49],\n",
       "       [50, 51, 52, 53, 54, 55, 56, 57, 58, 59],\n",
       "       [60, 61, 62, 63, 64, 65, 66, 67, 68, 69],\n",
       "       [70, 71, 72, 73, 74, 75, 76, 77, 78, 79],\n",
       "       [80, 81, 82, 83, 84, 85, 86, 87, 88, 89],\n",
       "       [90, 91, 92, 93, 94, 95, 96, 97, 98, 99]])"
      ]
     },
     "metadata": {},
     "output_type": "display_data"
    },
    {
     "name": "stdout",
     "output_type": "stream",
     "text": [
      "10\n",
      "1\n"
     ]
    }
   ],
   "source": [
    "#indices of multi dimensional arrays are tuples of integers\n",
    "x = a.reshape(10,10)\n",
    "display(x)\n",
    "print(x[1,0])\n",
    "print(x[0,1])"
   ]
  },
  {
   "cell_type": "markdown",
   "metadata": {},
   "source": [
    "### Exercise 2\n",
    "Create a 8x8 matrix and fill it with a checkerboard pattern"
   ]
  },
  {
   "cell_type": "code",
   "execution_count": null,
   "metadata": {
    "collapsed": false
   },
   "outputs": [],
   "source": []
  },
  {
   "cell_type": "markdown",
   "metadata": {},
   "source": [
    "### Fancy Indexing\n",
    "In addition to the standard list indexing and slicing operations, we can also use arrays and lists of integers or bools to index numpy arrays."
   ]
  },
  {
   "cell_type": "code",
   "execution_count": 39,
   "metadata": {
    "collapsed": false
   },
   "outputs": [
    {
     "data": {
      "text/plain": [
       "array([10, 20, 45])"
      ]
     },
     "execution_count": 39,
     "metadata": {},
     "output_type": "execute_result"
    }
   ],
   "source": [
    "#you can also use lists or other numpy arrays to index\n",
    "x = np.arange(200)\n",
    "x[[10,20,45]]"
   ]
  },
  {
   "cell_type": "code",
   "execution_count": 40,
   "metadata": {
    "collapsed": true
   },
   "outputs": [],
   "source": [
    "x = np.array([[3, 4, 2], [9, 7]])"
   ]
  },
  {
   "cell_type": "code",
   "execution_count": 41,
   "metadata": {
    "collapsed": false
   },
   "outputs": [
    {
     "name": "stdout",
     "output_type": "stream",
     "text": [
      "object\n",
      "(2,)\n",
      "<type 'list'>\n"
     ]
    }
   ],
   "source": [
    "print(x.dtype)\n",
    "print(x.shape)\n",
    "print(type(x[0]))"
   ]
  },
  {
   "cell_type": "code",
   "execution_count": 44,
   "metadata": {
    "collapsed": false
   },
   "outputs": [
    {
     "name": "stdout",
     "output_type": "stream",
     "text": [
      "[[3 4 2]\n",
      " [9 7 1]]\n",
      "(2, 3)\n"
     ]
    }
   ],
   "source": [
    "#when indexing with arrays of ints, the output takes the shape of the index\n",
    "a = np.arange(10)\n",
    "idx = np.array([[3, 4, 2], [9, 7, 1]], dtype=np.int)\n",
    "print(a[idx])\n",
    "print(a[idx].shape)"
   ]
  },
  {
   "cell_type": "code",
   "execution_count": 45,
   "metadata": {
    "collapsed": false
   },
   "outputs": [
    {
     "name": "stdout",
     "output_type": "stream",
     "text": [
      "[10  3  8  0 19 10 11  9 10  6  0 12  7 14 17]\n"
     ]
    }
   ],
   "source": [
    "#we can also use boolean masks to index arrays\n",
    "np.random.seed(3)\n",
    "a = np.random.randint(0, 20, 15)\n",
    "print(a)\n"
   ]
  },
  {
   "cell_type": "code",
   "execution_count": 46,
   "metadata": {
    "collapsed": false
   },
   "outputs": [
    {
     "name": "stdout",
     "output_type": "stream",
     "text": [
      "[False  True False  True False False False  True False  True  True  True\n",
      " False False False]\n"
     ]
    }
   ],
   "source": [
    "print(a % 3 == 0)\n"
   ]
  },
  {
   "cell_type": "code",
   "execution_count": 47,
   "metadata": {
    "collapsed": false
   },
   "outputs": [
    {
     "data": {
      "text/plain": [
       "array([10,  8, 19, 10, 11, 10,  7, 14, 17])"
      ]
     },
     "execution_count": 47,
     "metadata": {},
     "output_type": "execute_result"
    }
   ],
   "source": [
    "mask = (a % 3 == 0)\n",
    "extract_from_a = a[~mask] # or,  a[a%3==0]\n",
    "extract_from_a "
   ]
  },
  {
   "cell_type": "markdown",
   "metadata": {},
   "source": [
    "But indexing like this is much slower. We will see why in a moment."
   ]
  },
  {
   "cell_type": "code",
   "execution_count": 48,
   "metadata": {
    "collapsed": true
   },
   "outputs": [],
   "source": [
    "x = np.arange(10000)"
   ]
  },
  {
   "cell_type": "code",
   "execution_count": 49,
   "metadata": {
    "collapsed": true
   },
   "outputs": [],
   "source": [
    "idx = range(10000)[::100]"
   ]
  },
  {
   "cell_type": "code",
   "execution_count": 50,
   "metadata": {
    "collapsed": false
   },
   "outputs": [
    {
     "data": {
      "text/plain": [
       "[0,\n",
       " 100,\n",
       " 200,\n",
       " 300,\n",
       " 400,\n",
       " 500,\n",
       " 600,\n",
       " 700,\n",
       " 800,\n",
       " 900,\n",
       " 1000,\n",
       " 1100,\n",
       " 1200,\n",
       " 1300,\n",
       " 1400,\n",
       " 1500,\n",
       " 1600,\n",
       " 1700,\n",
       " 1800,\n",
       " 1900,\n",
       " 2000,\n",
       " 2100,\n",
       " 2200,\n",
       " 2300,\n",
       " 2400,\n",
       " 2500,\n",
       " 2600,\n",
       " 2700,\n",
       " 2800,\n",
       " 2900,\n",
       " 3000,\n",
       " 3100,\n",
       " 3200,\n",
       " 3300,\n",
       " 3400,\n",
       " 3500,\n",
       " 3600,\n",
       " 3700,\n",
       " 3800,\n",
       " 3900,\n",
       " 4000,\n",
       " 4100,\n",
       " 4200,\n",
       " 4300,\n",
       " 4400,\n",
       " 4500,\n",
       " 4600,\n",
       " 4700,\n",
       " 4800,\n",
       " 4900,\n",
       " 5000,\n",
       " 5100,\n",
       " 5200,\n",
       " 5300,\n",
       " 5400,\n",
       " 5500,\n",
       " 5600,\n",
       " 5700,\n",
       " 5800,\n",
       " 5900,\n",
       " 6000,\n",
       " 6100,\n",
       " 6200,\n",
       " 6300,\n",
       " 6400,\n",
       " 6500,\n",
       " 6600,\n",
       " 6700,\n",
       " 6800,\n",
       " 6900,\n",
       " 7000,\n",
       " 7100,\n",
       " 7200,\n",
       " 7300,\n",
       " 7400,\n",
       " 7500,\n",
       " 7600,\n",
       " 7700,\n",
       " 7800,\n",
       " 7900,\n",
       " 8000,\n",
       " 8100,\n",
       " 8200,\n",
       " 8300,\n",
       " 8400,\n",
       " 8500,\n",
       " 8600,\n",
       " 8700,\n",
       " 8800,\n",
       " 8900,\n",
       " 9000,\n",
       " 9100,\n",
       " 9200,\n",
       " 9300,\n",
       " 9400,\n",
       " 9500,\n",
       " 9600,\n",
       " 9700,\n",
       " 9800,\n",
       " 9900]"
      ]
     },
     "execution_count": 50,
     "metadata": {},
     "output_type": "execute_result"
    }
   ],
   "source": [
    "idx"
   ]
  },
  {
   "cell_type": "code",
   "execution_count": 51,
   "metadata": {
    "collapsed": false
   },
   "outputs": [
    {
     "name": "stdout",
     "output_type": "stream",
     "text": [
      "The slowest run took 4.05 times longer than the fastest. This could mean that an intermediate result is being cached.\n",
      "100000 loops, best of 3: 5.89 µs per loop\n",
      "The slowest run took 17.75 times longer than the fastest. This could mean that an intermediate result is being cached.\n",
      "1000000 loops, best of 3: 215 ns per loop\n"
     ]
    }
   ],
   "source": [
    "%timeit x[idx]\n",
    "%timeit x[::100]"
   ]
  },
  {
   "cell_type": "markdown",
   "metadata": {},
   "source": [
    "### Exercise 3\n",
    "Create a 10 × 5 array with random numbers between 0 and 1. Construct the (one-dimensional) array returning the values of the array closest to 0.66 for each row using fancy indexing. Do the same for the columns.\n",
    "\n",
    "**Hint**: You'll need to use the functions np.argmin and np.abs. Look up how they work!"
   ]
  },
  {
   "cell_type": "markdown",
   "metadata": {},
   "source": [
    "### Under the hood\n",
    "\n",
    "In order to understand why certain operations are more efficient than others in numpy, we need to understand views and copying of arrays. Below we perform two different operations that do the same thing, one much slower than the other. \n",
    "\n",
    "It is also very important to know what operations produce views in order to avoid hard to find bugs!"
   ]
  },
  {
   "cell_type": "code",
   "execution_count": 56,
   "metadata": {
    "collapsed": false
   },
   "outputs": [
    {
     "data": {
      "image/png": "[encoded data removed]",
      "text/plain": [
       "<IPython.core.display.Image object>"
      ]
     },
     "execution_count": 56,
     "metadata": {},
     "output_type": "execute_result"
    }
   ],
   "source": [
    "from IPython.display import Image\n",
    "Image(filename='ndarray_layout.png')"
   ]
  },
  {
   "cell_type": "code",
   "execution_count": 57,
   "metadata": {
    "collapsed": false
   },
   "outputs": [
    {
     "data": {
      "text/plain": [
       "<read-write buffer for 0x108197620, size 80, offset 0 at 0x1081b9370>"
      ]
     },
     "execution_count": 57,
     "metadata": {},
     "output_type": "execute_result"
    }
   ],
   "source": [
    "x.data"
   ]
  },
  {
   "cell_type": "code",
   "execution_count": 58,
   "metadata": {
    "collapsed": false
   },
   "outputs": [
    {
     "name": "stdout",
     "output_type": "stream",
     "text": [
      "(8,)\n",
      "float64\n"
     ]
    }
   ],
   "source": [
    "print(x.strides)\n",
    "print(x.dtype)"
   ]
  },
  {
   "cell_type": "code",
   "execution_count": 59,
   "metadata": {
    "collapsed": true
   },
   "outputs": [],
   "source": [
    "x = np.zeros(100, dtype=np.dtype([('a', np.float), ('b', 'S100')]))"
   ]
  },
  {
   "cell_type": "code",
   "execution_count": 60,
   "metadata": {
    "collapsed": false
   },
   "outputs": [
    {
     "name": "stdout",
     "output_type": "stream",
     "text": [
      "(108,)\n",
      "[('a', '<f8'), ('b', 'S100')]\n"
     ]
    }
   ],
   "source": [
    "print(x.strides)\n",
    "print(x.dtype)"
   ]
  },
  {
   "cell_type": "markdown",
   "metadata": {},
   "source": [
    "Depending on how we index an array, either a new array will be created by copying the old array, or we will get a 'view'"
   ]
  },
  {
   "cell_type": "code",
   "execution_count": 73,
   "metadata": {
    "collapsed": true
   },
   "outputs": [],
   "source": [
    "x = np.arange(10000)"
   ]
  },
  {
   "cell_type": "code",
   "execution_count": 74,
   "metadata": {
    "collapsed": true
   },
   "outputs": [],
   "source": [
    "sa = x[::100]"
   ]
  },
  {
   "cell_type": "code",
   "execution_count": 80,
   "metadata": {
    "collapsed": false
   },
   "outputs": [
    {
     "name": "stdout",
     "output_type": "stream",
     "text": [
      "(800,)\n",
      "int64\n"
     ]
    }
   ],
   "source": [
    "print(sa.strides)\n",
    "print(sa.dtype)\n"
   ]
  },
  {
   "cell_type": "code",
   "execution_count": 81,
   "metadata": {
    "collapsed": true
   },
   "outputs": [],
   "source": [
    "idx = range(10000)[::100]"
   ]
  },
  {
   "cell_type": "code",
   "execution_count": 82,
   "metadata": {
    "collapsed": false
   },
   "outputs": [],
   "source": [
    "fa = x[idx]\n"
   ]
  },
  {
   "cell_type": "code",
   "execution_count": 83,
   "metadata": {
    "collapsed": false
   },
   "outputs": [
    {
     "name": "stdout",
     "output_type": "stream",
     "text": [
      "None\n"
     ]
    }
   ],
   "source": [
    "print(fa.base)"
   ]
  },
  {
   "cell_type": "code",
   "execution_count": 84,
   "metadata": {
    "collapsed": false
   },
   "outputs": [
    {
     "data": {
      "text/plain": [
       "array([   0,    1,    2, ..., 9997, 9998, 9999])"
      ]
     },
     "execution_count": 84,
     "metadata": {},
     "output_type": "execute_result"
    }
   ],
   "source": [
    "#If an array does not own it's own data, we say it is a view of an array\n",
    "sa.base"
   ]
  },
  {
   "cell_type": "code",
   "execution_count": 85,
   "metadata": {
    "collapsed": false
   },
   "outputs": [
    {
     "data": {
      "text/plain": [
       "  C_CONTIGUOUS : False\n",
       "  F_CONTIGUOUS : False\n",
       "  OWNDATA : False\n",
       "  WRITEABLE : True\n",
       "  ALIGNED : True\n",
       "  UPDATEIFCOPY : False"
      ]
     },
     "execution_count": 85,
     "metadata": {},
     "output_type": "execute_result"
    }
   ],
   "source": [
    "#for instance, transposes of arrays are actually views\n",
    "sa.T.flags"
   ]
  },
  {
   "cell_type": "code",
   "execution_count": 86,
   "metadata": {
    "collapsed": false
   },
   "outputs": [
    {
     "name": "stdout",
     "output_type": "stream",
     "text": [
      "None\n"
     ]
    }
   ],
   "source": [
    "#if an array owns its own data, its base will be None\n",
    "print(fa.base)"
   ]
  },
  {
   "cell_type": "code",
   "execution_count": 87,
   "metadata": {
    "collapsed": true
   },
   "outputs": [],
   "source": [
    "a = np.arange(100).reshape(10,10)"
   ]
  },
  {
   "cell_type": "code",
   "execution_count": 88,
   "metadata": {
    "collapsed": false
   },
   "outputs": [
    {
     "data": {
      "text/plain": [
       "(80, 8)"
      ]
     },
     "execution_count": 88,
     "metadata": {},
     "output_type": "execute_result"
    }
   ],
   "source": [
    "a.strides"
   ]
  },
  {
   "cell_type": "markdown",
   "metadata": {},
   "source": [
    "### Exercise 4\n",
    "Do the following two operations result in a views or a copies?"
   ]
  },
  {
   "cell_type": "code",
   "execution_count": 28,
   "metadata": {
    "collapsed": true
   },
   "outputs": [],
   "source": [
    "ar = a.ravel()\n",
    "arf = a.flatten()"
   ]
  },
  {
   "cell_type": "markdown",
   "metadata": {},
   "source": [
    "### Array operations"
   ]
  },
  {
   "cell_type": "markdown",
   "metadata": {},
   "source": [
    "### broadcasting\n",
    "Broadcasting is a way of performing operations on numpy arrays of different shapes. \n",
    "\n",
    "When operating on two arrays, NumPy compares their shapes element-wise. It starts with the trailing dimensions, and works its way forward. Two dimensions are compatible when\n",
    "\n",
    "* they are equal, or\n",
    "* one of them is 1\n",
    "\n",
    "If these conditions are not met, an ```ValueError```  is thrown"
   ]
  },
  {
   "cell_type": "code",
   "execution_count": 43,
   "metadata": {
    "collapsed": false
   },
   "outputs": [
    {
     "data": {
      "text/plain": [
       "array([[ 0,  1,  2,  3,  4,  5,  6,  7],\n",
       "       [ 8,  9, 10, 11, 12, 13, 14, 15],\n",
       "       [16, 17, 18, 19, 20, 21, 22, 23],\n",
       "       [24, 25, 26, 27, 28, 29, 30, 31],\n",
       "       [32, 33, 34, 35, 36, 37, 38, 39]])"
      ]
     },
     "metadata": {},
     "output_type": "display_data"
    }
   ],
   "source": [
    "a = np.arange(40).reshape(5, 8)\n",
    "display(a)"
   ]
  },
  {
   "cell_type": "code",
   "execution_count": 31,
   "metadata": {
    "collapsed": false
   },
   "outputs": [],
   "source": [
    "a = a + 1"
   ]
  },
  {
   "cell_type": "code",
   "execution_count": 32,
   "metadata": {
    "collapsed": false
   },
   "outputs": [
    {
     "data": {
      "text/plain": [
       "array([[ 1,  2,  3,  4,  5,  6,  7,  8],\n",
       "       [ 9, 10, 11, 12, 13, 14, 15, 16],\n",
       "       [17, 18, 19, 20, 21, 22, 23, 24],\n",
       "       [25, 26, 27, 28, 29, 30, 31, 32],\n",
       "       [33, 34, 35, 36, 37, 38, 39, 40]])"
      ]
     },
     "metadata": {},
     "output_type": "display_data"
    }
   ],
   "source": [
    "display(a)"
   ]
  },
  {
   "cell_type": "code",
   "execution_count": 33,
   "metadata": {
    "collapsed": false
   },
   "outputs": [
    {
     "data": {
      "text/plain": [
       "array([[ 2,  3,  4,  5,  6,  7,  8,  9],\n",
       "       [10, 11, 12, 13, 14, 15, 16, 17],\n",
       "       [18, 19, 20, 21, 22, 23, 24, 25],\n",
       "       [26, 27, 28, 29, 30, 31, 32, 33],\n",
       "       [34, 35, 36, 37, 38, 39, 40, 41]])"
      ]
     },
     "metadata": {},
     "output_type": "display_data"
    }
   ],
   "source": [
    "a += 1\n",
    "display(a)"
   ]
  },
  {
   "cell_type": "code",
   "execution_count": 34,
   "metadata": {
    "collapsed": false
   },
   "outputs": [
    {
     "data": {
      "text/plain": [
       "array([-1, -2, -3, -4, -5, -6, -7, -8])"
      ]
     },
     "metadata": {},
     "output_type": "display_data"
    }
   ],
   "source": [
    "b = np.arange(-1, -9, -1)\n",
    "display(b)"
   ]
  },
  {
   "cell_type": "code",
   "execution_count": 36,
   "metadata": {
    "collapsed": false
   },
   "outputs": [
    {
     "name": "stdout",
     "output_type": "stream",
     "text": [
      "(5, 8)\n",
      "(8,)\n"
     ]
    }
   ],
   "source": [
    "print(a.shape)\n",
    "print(b.shape)"
   ]
  },
  {
   "cell_type": "code",
   "execution_count": 37,
   "metadata": {
    "collapsed": false
   },
   "outputs": [
    {
     "data": {
      "text/plain": [
       "array([[ 1,  1,  1,  1,  1,  1,  1,  1],\n",
       "       [ 9,  9,  9,  9,  9,  9,  9,  9],\n",
       "       [17, 17, 17, 17, 17, 17, 17, 17],\n",
       "       [25, 25, 25, 25, 25, 25, 25, 25],\n",
       "       [33, 33, 33, 33, 33, 33, 33, 33]])"
      ]
     },
     "execution_count": 37,
     "metadata": {},
     "output_type": "execute_result"
    }
   ],
   "source": [
    "a + b"
   ]
  },
  {
   "cell_type": "code",
   "execution_count": 38,
   "metadata": {
    "collapsed": false
   },
   "outputs": [
    {
     "data": {
      "text/plain": [
       "array([ 10.,  20.,  30.,  40.,  50.])"
      ]
     },
     "metadata": {},
     "output_type": "display_data"
    }
   ],
   "source": [
    "c = np.array([10,20,30,40,50], dtype=np.float64)\n",
    "display(c)"
   ]
  },
  {
   "cell_type": "code",
   "execution_count": 44,
   "metadata": {
    "collapsed": false
   },
   "outputs": [
    {
     "ename": "ValueError",
     "evalue": "operands could not be broadcast together with shapes (5,) (5,8) ",
     "output_type": "error",
     "traceback": [
      "\u001b[0;31m---------------------------------------------------------------------------\u001b[0m",
      "\u001b[0;31mValueError\u001b[0m                                Traceback (most recent call last)",
      "\u001b[0;32m<ipython-input-44-4defc8d5efca>\u001b[0m in \u001b[0;36m<module>\u001b[0;34m()\u001b[0m\n\u001b[0;32m----> 1\u001b[0;31m \u001b[0mc\u001b[0m \u001b[0;34m+\u001b[0m \u001b[0ma\u001b[0m  \u001b[0;31m# this would raise an error\u001b[0m\u001b[0;34m\u001b[0m\u001b[0m\n\u001b[0m",
      "\u001b[0;31mValueError\u001b[0m: operands could not be broadcast together with shapes (5,) (5,8) "
     ]
    }
   ],
   "source": [
    "c + a  # this would raise an error"
   ]
  },
  {
   "cell_type": "code",
   "execution_count": 46,
   "metadata": {
    "collapsed": false
   },
   "outputs": [
    {
     "ename": "ValueError",
     "evalue": "non-broadcastable output operand with shape (5,1) doesn't match the broadcast shape (5,8)",
     "output_type": "error",
     "traceback": [
      "\u001b[0;31m---------------------------------------------------------------------------\u001b[0m",
      "\u001b[0;31mValueError\u001b[0m                                Traceback (most recent call last)",
      "\u001b[0;32m<ipython-input-46-8cf9616e1a7b>\u001b[0m in \u001b[0;36m<module>\u001b[0;34m()\u001b[0m\n\u001b[0;32m----> 1\u001b[0;31m \u001b[0mc\u001b[0m\u001b[0;34m[\u001b[0m\u001b[0;34m:\u001b[0m\u001b[0;34m,\u001b[0m\u001b[0mnp\u001b[0m\u001b[0;34m.\u001b[0m\u001b[0mnewaxis\u001b[0m\u001b[0;34m]\u001b[0m \u001b[0;34m+=\u001b[0m \u001b[0ma\u001b[0m\u001b[0;34m\u001b[0m\u001b[0m\n\u001b[0m",
      "\u001b[0;31mValueError\u001b[0m: non-broadcastable output operand with shape (5,1) doesn't match the broadcast shape (5,8)"
     ]
    }
   ],
   "source": [
    "c[:,np.newaxis] += a"
   ]
  },
  {
   "cell_type": "markdown",
   "metadata": {},
   "source": [
    "### reduce"
   ]
  },
  {
   "cell_type": "code",
   "execution_count": null,
   "metadata": {
    "collapsed": false
   },
   "outputs": [],
   "source": [
    "a.sum()"
   ]
  },
  {
   "cell_type": "code",
   "execution_count": null,
   "metadata": {
    "collapsed": false
   },
   "outputs": [],
   "source": [
    "a.mean()"
   ]
  },
  {
   "cell_type": "code",
   "execution_count": null,
   "metadata": {
    "collapsed": false
   },
   "outputs": [],
   "source": [
    "a.sum(axis=1)"
   ]
  },
  {
   "cell_type": "code",
   "execution_count": null,
   "metadata": {
    "collapsed": false,
    "scrolled": true
   },
   "outputs": [],
   "source": [
    "a.max(axis=0)"
   ]
  },
  {
   "cell_type": "code",
   "execution_count": null,
   "metadata": {
    "collapsed": false
   },
   "outputs": [],
   "source": [
    "np.median(a, axis=1)"
   ]
  },
  {
   "cell_type": "code",
   "execution_count": null,
   "metadata": {
    "collapsed": false
   },
   "outputs": [],
   "source": [
    "np.std(a, axis=0)"
   ]
  },
  {
   "cell_type": "markdown",
   "metadata": {},
   "source": [
    "The first rule of numpy: **AVOID LARGE FOR LOOPS** (instead, use [ufuncs](http://docs.scipy.org/doc/numpy/reference/ufuncs.html))"
   ]
  },
  {
   "cell_type": "code",
   "execution_count": 47,
   "metadata": {
    "collapsed": false
   },
   "outputs": [
    {
     "name": "stdout",
     "output_type": "stream",
     "text": [
      "The slowest run took 11.59 times longer than the fastest. This could mean that an intermediate result is being cached.\n",
      "1000000 loops, best of 3: 1.65 µs per loop\n",
      "1000 loops, best of 3: 295 µs per loop\n"
     ]
    }
   ],
   "source": [
    "a = np.arange(1000)\n",
    "%timeit a**2\n",
    "%timeit [i**2 for i in a] #these yield identical answers"
   ]
  },
  {
   "cell_type": "markdown",
   "metadata": {},
   "source": [
    "### searching and sorting"
   ]
  },
  {
   "cell_type": "code",
   "execution_count": null,
   "metadata": {
    "collapsed": false
   },
   "outputs": [],
   "source": [
    "a = np.array([[4, 3, 5], [1, 2, 1]]) \n",
    "b = np.sort(a, axis=1) #sorts each column independently\n",
    "b"
   ]
  },
  {
   "cell_type": "code",
   "execution_count": null,
   "metadata": {
    "collapsed": false
   },
   "outputs": [],
   "source": [
    "#once sorted, can use fast search algorithms\n",
    "x = np.random.randint(0, high=100, size=1000)\n",
    "x.sort()\n",
    "i = x.searchsorted(27)\n",
    "print(i)"
   ]
  },
  {
   "cell_type": "markdown",
   "metadata": {},
   "source": [
    "### Exercise 5\n",
    "Write a function which sorts a 2d array by it's nth column."
   ]
  },
  {
   "cell_type": "markdown",
   "metadata": {},
   "source": [
    "### useful functions"
   ]
  },
  {
   "cell_type": "code",
   "execution_count": null,
   "metadata": {
    "collapsed": false
   },
   "outputs": [],
   "source": [
    "a = np.arange(15).reshape(5,3)\n",
    "b = np.arange(12).reshape(3,4)\n",
    "\n",
    "display(a)\n",
    "display(b)"
   ]
  },
  {
   "cell_type": "code",
   "execution_count": null,
   "metadata": {
    "collapsed": false
   },
   "outputs": [],
   "source": [
    "np.dot(a, b)"
   ]
  },
  {
   "cell_type": "code",
   "execution_count": null,
   "metadata": {
    "collapsed": false
   },
   "outputs": [],
   "source": [
    "a = np.arange(30).reshape(5,3,2)\n",
    "b = np.arange(60).reshape(3,4,5)\n",
    "\n",
    "display(a)\n",
    "display(b)"
   ]
  },
  {
   "cell_type": "code",
   "execution_count": null,
   "metadata": {
    "collapsed": false
   },
   "outputs": [],
   "source": [
    "np.einsum('ijk,jli', a, b)"
   ]
  },
  {
   "cell_type": "code",
   "execution_count": null,
   "metadata": {
    "collapsed": false
   },
   "outputs": [],
   "source": [
    "# You can find most mathematical function. \n",
    "# For special functions, find them in `scipy.special`\n",
    "\n",
    "x = np.linspace(0, np.pi*2, 101)\n",
    "plt.plot(x, np.cos(x))\n",
    "plt.plot(x, np.sin(x))"
   ]
  },
  {
   "cell_type": "code",
   "execution_count": null,
   "metadata": {
    "collapsed": false
   },
   "outputs": [],
   "source": [
    "# dealing with bool array\n",
    "\n",
    "a = np.random.randint(2, size=20).astype(bool)\n",
    "display(a)\n",
    "display(np.count_nonzero(a))\n",
    "display(np.where(a))"
   ]
  },
  {
   "cell_type": "code",
   "execution_count": null,
   "metadata": {
    "collapsed": false
   },
   "outputs": [],
   "source": [
    "# argsort\n",
    "\n",
    "a = np.random.rand(10)\n",
    "\n",
    "display(a)\n",
    "display(a.argsort())\n",
    "\n",
    "display(a[a.argsort()])\n",
    "\n",
    "# note: to sort \"in place\", just do a.sort()"
   ]
  },
  {
   "cell_type": "code",
   "execution_count": null,
   "metadata": {
    "collapsed": false
   },
   "outputs": [],
   "source": [
    "# argmax and unravel_index\n",
    "\n",
    "a = np.random.rand(100)\n",
    "display(a.argmax())\n",
    "\n",
    "a = np.random.rand(100, 100)\n",
    "display(a.argmax())\n",
    "display(np.unravel_index(a.argmax(), a.shape))"
   ]
  },
  {
   "cell_type": "code",
   "execution_count": null,
   "metadata": {
    "collapsed": false
   },
   "outputs": [],
   "source": [
    "# different ways to do histogram\n",
    "\n",
    "a = np.random.rand(500)\n",
    "bins = np.linspace(0, 1, 21)\n",
    "\n",
    "display(np.bincount(np.searchsorted(bins, a)))\n",
    "\n",
    "display(np.histogram(a, bins))\n",
    "\n",
    "display(np.searchsorted(a, bins, sorter=a.argsort()))"
   ]
  },
  {
   "cell_type": "markdown",
   "metadata": {},
   "source": [
    "### Task \n",
    "\n",
    "Given an 2-D int array, fill the 0th row and 0th column with 1, and the rest by the following rule:\n",
    "\n",
    "    a[i,j] = a[i-1,j] + a[i,j-1]"
   ]
  },
  {
   "cell_type": "code",
   "execution_count": null,
   "metadata": {
    "collapsed": false
   },
   "outputs": [],
   "source": [
    "# run this cell to see hints\n",
    "\n",
    "hint = 'Pqv|{B\\x125(_wzs(wv(wvm(zw\\x7f(i|(i(|qum6(\\x125(aw}/tt(vmml(i(v}ux\\x81(n}vk|qwv6(Vw|({}zm(\\x7fpqkp(wvmG(\\\\z\\x81(z}v(hvx6twwsnwz0/k}u}ti|q~m/1h6'\n",
    "print((np.array(map(ord, hint), np.int8)-8).tostring())"
   ]
  },
  {
   "cell_type": "code",
   "execution_count": null,
   "metadata": {
    "collapsed": false
   },
   "outputs": [],
   "source": [
    "np.lookfor('cumulative')"
   ]
  },
  {
   "cell_type": "markdown",
   "metadata": {},
   "source": [
    "## matplotlib\n",
    "\n",
    "The easiest way to learn is to look at the [gallery](http://matplotlib.org/gallery.html)"
   ]
  },
  {
   "cell_type": "code",
   "execution_count": 48,
   "metadata": {
    "collapsed": false
   },
   "outputs": [
    {
     "data": {
      "image/png": "[encoded data removed]",
      "text/plain": [
       "<matplotlib.figure.Figure at 0x10afe86d0>"
      ]
     },
     "metadata": {},
     "output_type": "display_data"
    }
   ],
   "source": []
  },
  {
   "cell_type": "code",
   "execution_count": 58,
   "metadata": {
    "collapsed": false
   },
   "outputs": [
    {
     "data": {
      "image/png": "[encoded data removed]",
      "text/plain": [
       "<matplotlib.figure.Figure at 0x10ca37990>"
      ]
     },
     "metadata": {},
     "output_type": "display_data"
    }
   ],
   "source": [
    "fig, axes = plt.subplots(ncols=2, nrows=2)\n",
    "ax1, ax2, ax3, ax4 = axes.flat\n",
    "\n",
    "# scatter plot (Note: `plt.scatter` doesn't use default colors)\n",
    "x, y = np.random.normal(size=(2, 200))\n",
    "ax1.plot(x, y, 'o')\n",
    "\n",
    "# sinusoidal lines with colors from default color cycle\n",
    "L = 2*np.pi\n",
    "x = np.linspace(0, L)\n",
    "ncolors = len(plt.rcParams['axes.color_cycle'])\n",
    "shift = np.linspace(0, L, ncolors, endpoint=False)\n",
    "for s in shift:\n",
    "    ax2.plot(x, np.sin(x + s), '-')\n",
    "ax2.margins(0)\n",
    "\n",
    "# bar graphs\n",
    "x = np.arange(5)\n",
    "y1, y2 = np.random.randint(1, 25, size=(2, 5))\n",
    "width = 0.25\n",
    "ax3.bar(x, y1, width)\n",
    "ax3.bar(x+width, y2, width, color=plt.rcParams['axes.color_cycle'][2])\n",
    "ax3.set_xticks(x+width)\n",
    "ax3.set_xticklabels(['a', 'b', 'c', 'd', 'e'])\n",
    "\n",
    "# circles with colors from default color cycle\n",
    "for color in plt.rcParams['axes.color_cycle']:\n",
    "    ax4.add_patch(plt.Circle(np.random.randn(2), radius=0.3, color=color))\n",
    "ax4.axis('equal')\n",
    "ax4.set_xlabel('x')\n",
    "ax4.set_ylabel('y')\n",
    "plt.tight_layout()\n",
    "plt.show()"
   ]
  },
  {
   "cell_type": "code",
   "execution_count": null,
   "metadata": {
    "collapsed": true
   },
   "outputs": [],
   "source": []
  },
  {
   "cell_type": "markdown",
   "metadata": {
    "collapsed": true
   },
   "source": [
    "## Exercise Solutions\n",
    "### Exercise 1"
   ]
  },
  {
   "cell_type": "code",
   "execution_count": null,
   "metadata": {
    "collapsed": false
   },
   "outputs": [],
   "source": [
    "x = np.zeros(100, dtype=np.dtype([('stringcol', 'S200'), ('boolcol', bool)]))"
   ]
  },
  {
   "cell_type": "markdown",
   "metadata": {},
   "source": [
    "### Exercise 2"
   ]
  },
  {
   "cell_type": "code",
   "execution_count": null,
   "metadata": {
    "collapsed": false
   },
   "outputs": [],
   "source": [
    "x = np.zeros((8,8))\n",
    "x[1::2, ::2] = 1\n",
    "x[::2, 1::2] = 1\n",
    "print(x)"
   ]
  },
  {
   "cell_type": "markdown",
   "metadata": {},
   "source": [
    "### Exercise 3"
   ]
  },
  {
   "cell_type": "code",
   "execution_count": 52,
   "metadata": {
    "collapsed": true
   },
   "outputs": [],
   "source": [
    "z = np.random.rand(10,5)\n",
    "x = z[np.arange(10),np.argmin(np.abs(z-0.66), axis=1)]"
   ]
  },
  {
   "cell_type": "markdown",
   "metadata": {},
   "source": [
    "### Exercise 4"
   ]
  },
  {
   "cell_type": "markdown",
   "metadata": {},
   "source": [
    "1. View\n",
    "2. Copy"
   ]
  },
  {
   "cell_type": "markdown",
   "metadata": {},
   "source": [
    "### Exercise 5"
   ]
  },
  {
   "cell_type": "code",
   "execution_count": null,
   "metadata": {
    "collapsed": false
   },
   "outputs": [],
   "source": [
    "#slow\n",
    "def maxn(x, n):\n",
    "    return x[np.argsort(x)[-n:]]\n",
    "\n",
    "#fast\n",
    "def maxn(x, n):\n",
    "    return x[np.argpartition(-1*x,n)[:n]]\n",
    "\n",
    "maxn(np.random.randint(5,1000, 1000), 5)"
   ]
  },
  {
   "cell_type": "markdown",
   "metadata": {},
   "source": [
    "### Exercise 6"
   ]
  },
  {
   "cell_type": "code",
   "execution_count": null,
   "metadata": {
    "collapsed": true
   },
   "outputs": [],
   "source": [
    "a = np.zeros((6, 6), int)\n",
    "\n",
    "for i, row in enumerate(a):\n",
    "    if i ==0 :\n",
    "        row[:] = 1\n",
    "    else:\n",
    "        row[:] = np.cumsum(a[i-1])"
   ]
  }
 ],
 "metadata": {
  "kernelspec": {
   "display_name": "Python 2",
   "language": "python",
   "name": "python2"
  },
  "language_info": {
   "codemirror_mode": {
    "name": "ipython",
    "version": 2
   },
   "file_extension": ".py",
   "mimetype": "text/x-python",
   "name": "python",
   "nbconvert_exporter": "python",
   "pygments_lexer": "ipython2",
   "version": "2.7.11"
  }
 },
 "nbformat": 4,
 "nbformat_minor": 0
}
